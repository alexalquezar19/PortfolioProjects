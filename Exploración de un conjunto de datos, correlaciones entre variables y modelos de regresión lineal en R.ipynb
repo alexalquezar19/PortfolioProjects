{
 "cells": [
  {
   "cell_type": "markdown",
   "id": "319b184b-bbcd-484d-bc34-1e76c1444599",
   "metadata": {},
   "source": [
    "Alejandro Alquezar Pitarch - Proyecto Universitario"
   ]
  },
  {
   "cell_type": "markdown",
   "id": "f48219ba-85be-4be2-a724-84e909d97394",
   "metadata": {},
   "source": [
    "# Laboratorio: Exploración de un conjunto de datos, correlaciones entre variables y modelos de regresión lineal en R"
   ]
  },
  {
   "cell_type": "markdown",
   "id": "d2d12586-89b2-4545-80fa-179cb7ce5ffc",
   "metadata": {},
   "source": [
    " ### Introducción"
   ]
  },
  {
   "cell_type": "markdown",
   "id": "6419964d-07f4-4806-be18-7941f6166932",
   "metadata": {},
   "source": [
    "En esta actividad utilizaremos el lenguaje R para explorar una fuente de datos externa, observar correlaciones entre algunas variables y realizar una regresión lineal entre una determinada variable dependiente con respecto a otra variable independiente dentro del conjunto de datos. Así, además de utilizar R para observar medidas estadísticas de tendencia central (media, mediana) y dispersión (desviación típica, varianza), también observaremos correlaciones entre variables gráficamente y mediante el cálculo del coeficiente de determinación R2, así como para crear modelos de regresión lineal y a evaluar la bondad de los modelos mediante el error cuadrático medio.\n",
    "\n",
    "Vamos a utilizar datos de fuentes de datos abiertas, en este caso, hemos elegido el conjunto de datos de calidad del aire de la Junta de Castilla y León en España.\n",
    "\n",
    "En primer lugar, vamos a explicar el significado de los datos abiertos y por qué las administraciones públicas los ofrecen. El objetivo de los datos abiertos es proporcionar acceso a la información para que los ciudadanos comprendan cómo funciona la administración y cómo se toman las decisiones, y para que las personas participen en la toma de decisiones, la innovación y el desarrollo de servicios. Estos datos pueden ser utilizados por cualquier ciudadano, empresa, investigador o desarrollador. En cuanto a si tiene sentido que una empresa privada proporcione datos abiertos, depende del caso. Puede ayudar a tener un mayor nivel de innovación y mejorar la transparencia de dicha empresa."
   ]
  },
  {
   "cell_type": "code",
   "execution_count": 2,
   "id": "37104079-5718-4db5-a6e1-b448b26aa644",
   "metadata": {},
   "outputs": [],
   "source": [
    "url <- \"http://www.datosabiertos.jcyl.es/web/jcyl/risp/es/medio-ambiente/calidad_aire_historico/1284212629698.csv\"\n",
    "datos_alejandro_alquezar <- read.csv(url, sep = \";\", stringsAsFactors = FALSE, fileEncoding = \"UTF-8\")"
   ]
  },
  {
   "cell_type": "markdown",
   "id": "dac966ac-df38-4a78-9a75-bd1b70c56973",
   "metadata": {},
   "source": [
    "### Comprobación inicial de los datos"
   ]
  },
  {
   "cell_type": "code",
   "execution_count": 3,
   "id": "2c36bf41-9812-4740-89e1-ec0a7ec07253",
   "metadata": {},
   "outputs": [
    {
     "data": {
      "text/html": [
       "<style>\n",
       ".list-inline {list-style: none; margin:0; padding: 0}\n",
       ".list-inline>li {display: inline-block}\n",
       ".list-inline>li:not(:last-child)::after {content: \"\\00b7\"; padding: 0 .5ex}\n",
       "</style>\n",
       "<ol class=list-inline><li>446014</li><li>13</li></ol>\n"
      ],
      "text/latex": [
       "\\begin{enumerate*}\n",
       "\\item 446014\n",
       "\\item 13\n",
       "\\end{enumerate*}\n"
      ],
      "text/markdown": [
       "1. 446014\n",
       "2. 13\n",
       "\n",
       "\n"
      ],
      "text/plain": [
       "[1] 446014     13"
      ]
     },
     "metadata": {},
     "output_type": "display_data"
    },
    {
     "data": {
      "text/html": [
       "<style>\n",
       ".list-inline {list-style: none; margin:0; padding: 0}\n",
       ".list-inline>li {display: inline-block}\n",
       ".list-inline>li:not(:last-child)::after {content: \"\\00b7\"; padding: 0 .5ex}\n",
       "</style>\n",
       "<ol class=list-inline><li>'Fecha'</li><li>'CO..mg.m3.'</li><li>'NO..ug.m3.'</li><li>'NO2..ug.m3.'</li><li>'O3..ug.m3.'</li><li>'PM10..ug.m3.'</li><li>'PM25..ug.m3.'</li><li>'SO2..ug.m3.'</li><li>'Provincia'</li><li>'Estación'</li><li>'Latitud'</li><li>'Longitud'</li><li>'Posición'</li></ol>\n"
      ],
      "text/latex": [
       "\\begin{enumerate*}\n",
       "\\item 'Fecha'\n",
       "\\item 'CO..mg.m3.'\n",
       "\\item 'NO..ug.m3.'\n",
       "\\item 'NO2..ug.m3.'\n",
       "\\item 'O3..ug.m3.'\n",
       "\\item 'PM10..ug.m3.'\n",
       "\\item 'PM25..ug.m3.'\n",
       "\\item 'SO2..ug.m3.'\n",
       "\\item 'Provincia'\n",
       "\\item 'Estación'\n",
       "\\item 'Latitud'\n",
       "\\item 'Longitud'\n",
       "\\item 'Posición'\n",
       "\\end{enumerate*}\n"
      ],
      "text/markdown": [
       "1. 'Fecha'\n",
       "2. 'CO..mg.m3.'\n",
       "3. 'NO..ug.m3.'\n",
       "4. 'NO2..ug.m3.'\n",
       "5. 'O3..ug.m3.'\n",
       "6. 'PM10..ug.m3.'\n",
       "7. 'PM25..ug.m3.'\n",
       "8. 'SO2..ug.m3.'\n",
       "9. 'Provincia'\n",
       "10. 'Estación'\n",
       "11. 'Latitud'\n",
       "12. 'Longitud'\n",
       "13. 'Posición'\n",
       "\n",
       "\n"
      ],
      "text/plain": [
       " [1] \"Fecha\"        \"CO..mg.m3.\"   \"NO..ug.m3.\"   \"NO2..ug.m3.\"  \"O3..ug.m3.\"  \n",
       " [6] \"PM10..ug.m3.\" \"PM25..ug.m3.\" \"SO2..ug.m3.\"  \"Provincia\"    \"Estación\"    \n",
       "[11] \"Latitud\"      \"Longitud\"     \"Posición\"    "
      ]
     },
     "metadata": {},
     "output_type": "display_data"
    },
    {
     "data": {
      "text/html": [
       "<table class=\"dataframe\">\n",
       "<caption>A data.frame: 6 × 13</caption>\n",
       "<thead>\n",
       "\t<tr><th></th><th scope=col>Fecha</th><th scope=col>CO..mg.m3.</th><th scope=col>NO..ug.m3.</th><th scope=col>NO2..ug.m3.</th><th scope=col>O3..ug.m3.</th><th scope=col>PM10..ug.m3.</th><th scope=col>PM25..ug.m3.</th><th scope=col>SO2..ug.m3.</th><th scope=col>Provincia</th><th scope=col>Estación</th><th scope=col>Latitud</th><th scope=col>Longitud</th><th scope=col>Posición</th></tr>\n",
       "\t<tr><th></th><th scope=col>&lt;chr&gt;</th><th scope=col>&lt;dbl&gt;</th><th scope=col>&lt;int&gt;</th><th scope=col>&lt;int&gt;</th><th scope=col>&lt;int&gt;</th><th scope=col>&lt;int&gt;</th><th scope=col>&lt;int&gt;</th><th scope=col>&lt;int&gt;</th><th scope=col>&lt;chr&gt;</th><th scope=col>&lt;chr&gt;</th><th scope=col>&lt;dbl&gt;</th><th scope=col>&lt;dbl&gt;</th><th scope=col>&lt;chr&gt;</th></tr>\n",
       "</thead>\n",
       "<tbody>\n",
       "\t<tr><th scope=row>1</th><td>2020-12-31</td><td>0.6</td><td>8</td><td>16</td><td>NA</td><td> 6</td><td>NA</td><td> 1</td><td>Burgos</td><td>Burgos1                    </td><td>42.35111</td><td>-3.675556</td><td>42.3511111111,-3.67555555556</td></tr>\n",
       "\t<tr><th scope=row>2</th><td>2020-12-31</td><td> NA</td><td>2</td><td> 6</td><td>NA</td><td> 8</td><td>NA</td><td> 4</td><td>León  </td><td>C.T.L.R. - Naredo          </td><td>42.81667</td><td>-5.533333</td><td>42.8166666667,-5.53333333333</td></tr>\n",
       "\t<tr><th scope=row>3</th><td>2020-12-31</td><td> NA</td><td>8</td><td> 2</td><td>65</td><td> 4</td><td>NA</td><td> 2</td><td>León  </td><td>Carracedelo                </td><td>42.55861</td><td>-6.725556</td><td>42.5586111111,-6.72555555556</td></tr>\n",
       "\t<tr><th scope=row>4</th><td>2020-12-31</td><td> NA</td><td>1</td><td> 4</td><td>58</td><td>21</td><td>NA</td><td>17</td><td>León  </td><td>La Robla                   </td><td>42.80167</td><td>-5.625000</td><td>42.8016666667,-5.625        </td></tr>\n",
       "\t<tr><th scope=row>5</th><td>2020-12-31</td><td> NA</td><td>1</td><td> 1</td><td>NA</td><td> 6</td><td>NA</td><td> 2</td><td>León  </td><td>Tudela Veguin-Tudela Veguin</td><td>42.80167</td><td>-5.648889</td><td>42.8016666667,-5.64888888889</td></tr>\n",
       "\t<tr><th scope=row>6</th><td>2020-12-31</td><td> NA</td><td>2</td><td> 2</td><td>62</td><td> 6</td><td>NA</td><td> 6</td><td>León  </td><td>Valderas                   </td><td>42.07972</td><td>-5.448889</td><td>42.0797222222,-5.44888888889</td></tr>\n",
       "</tbody>\n",
       "</table>\n"
      ],
      "text/latex": [
       "A data.frame: 6 × 13\n",
       "\\begin{tabular}{r|lllllllllllll}\n",
       "  & Fecha & CO..mg.m3. & NO..ug.m3. & NO2..ug.m3. & O3..ug.m3. & PM10..ug.m3. & PM25..ug.m3. & SO2..ug.m3. & Provincia & Estación & Latitud & Longitud & Posición\\\\\n",
       "  & <chr> & <dbl> & <int> & <int> & <int> & <int> & <int> & <int> & <chr> & <chr> & <dbl> & <dbl> & <chr>\\\\\n",
       "\\hline\n",
       "\t1 & 2020-12-31 & 0.6 & 8 & 16 & NA &  6 & NA &  1 & Burgos & Burgos1                     & 42.35111 & -3.675556 & 42.3511111111,-3.67555555556\\\\\n",
       "\t2 & 2020-12-31 &  NA & 2 &  6 & NA &  8 & NA &  4 & León   & C.T.L.R. - Naredo           & 42.81667 & -5.533333 & 42.8166666667,-5.53333333333\\\\\n",
       "\t3 & 2020-12-31 &  NA & 8 &  2 & 65 &  4 & NA &  2 & León   & Carracedelo                 & 42.55861 & -6.725556 & 42.5586111111,-6.72555555556\\\\\n",
       "\t4 & 2020-12-31 &  NA & 1 &  4 & 58 & 21 & NA & 17 & León   & La Robla                    & 42.80167 & -5.625000 & 42.8016666667,-5.625        \\\\\n",
       "\t5 & 2020-12-31 &  NA & 1 &  1 & NA &  6 & NA &  2 & León   & Tudela Veguin-Tudela Veguin & 42.80167 & -5.648889 & 42.8016666667,-5.64888888889\\\\\n",
       "\t6 & 2020-12-31 &  NA & 2 &  2 & 62 &  6 & NA &  6 & León   & Valderas                    & 42.07972 & -5.448889 & 42.0797222222,-5.44888888889\\\\\n",
       "\\end{tabular}\n"
      ],
      "text/markdown": [
       "\n",
       "A data.frame: 6 × 13\n",
       "\n",
       "| <!--/--> | Fecha &lt;chr&gt; | CO..mg.m3. &lt;dbl&gt; | NO..ug.m3. &lt;int&gt; | NO2..ug.m3. &lt;int&gt; | O3..ug.m3. &lt;int&gt; | PM10..ug.m3. &lt;int&gt; | PM25..ug.m3. &lt;int&gt; | SO2..ug.m3. &lt;int&gt; | Provincia &lt;chr&gt; | Estación &lt;chr&gt; | Latitud &lt;dbl&gt; | Longitud &lt;dbl&gt; | Posición &lt;chr&gt; |\n",
       "|---|---|---|---|---|---|---|---|---|---|---|---|---|---|\n",
       "| 1 | 2020-12-31 | 0.6 | 8 | 16 | NA |  6 | NA |  1 | Burgos | Burgos1                     | 42.35111 | -3.675556 | 42.3511111111,-3.67555555556 |\n",
       "| 2 | 2020-12-31 |  NA | 2 |  6 | NA |  8 | NA |  4 | León   | C.T.L.R. - Naredo           | 42.81667 | -5.533333 | 42.8166666667,-5.53333333333 |\n",
       "| 3 | 2020-12-31 |  NA | 8 |  2 | 65 |  4 | NA |  2 | León   | Carracedelo                 | 42.55861 | -6.725556 | 42.5586111111,-6.72555555556 |\n",
       "| 4 | 2020-12-31 |  NA | 1 |  4 | 58 | 21 | NA | 17 | León   | La Robla                    | 42.80167 | -5.625000 | 42.8016666667,-5.625         |\n",
       "| 5 | 2020-12-31 |  NA | 1 |  1 | NA |  6 | NA |  2 | León   | Tudela Veguin-Tudela Veguin | 42.80167 | -5.648889 | 42.8016666667,-5.64888888889 |\n",
       "| 6 | 2020-12-31 |  NA | 2 |  2 | 62 |  6 | NA |  6 | León   | Valderas                    | 42.07972 | -5.448889 | 42.0797222222,-5.44888888889 |\n",
       "\n"
      ],
      "text/plain": [
       "  Fecha      CO..mg.m3. NO..ug.m3. NO2..ug.m3. O3..ug.m3. PM10..ug.m3.\n",
       "1 2020-12-31 0.6        8          16          NA          6          \n",
       "2 2020-12-31  NA        2           6          NA          8          \n",
       "3 2020-12-31  NA        8           2          65          4          \n",
       "4 2020-12-31  NA        1           4          58         21          \n",
       "5 2020-12-31  NA        1           1          NA          6          \n",
       "6 2020-12-31  NA        2           2          62          6          \n",
       "  PM25..ug.m3. SO2..ug.m3. Provincia Estación                    Latitud \n",
       "1 NA            1          Burgos    Burgos1                     42.35111\n",
       "2 NA            4          León      C.T.L.R. - Naredo           42.81667\n",
       "3 NA            2          León      Carracedelo                 42.55861\n",
       "4 NA           17          León      La Robla                    42.80167\n",
       "5 NA            2          León      Tudela Veguin-Tudela Veguin 42.80167\n",
       "6 NA            6          León      Valderas                    42.07972\n",
       "  Longitud  Posición                    \n",
       "1 -3.675556 42.3511111111,-3.67555555556\n",
       "2 -5.533333 42.8166666667,-5.53333333333\n",
       "3 -6.725556 42.5586111111,-6.72555555556\n",
       "4 -5.625000 42.8016666667,-5.625        \n",
       "5 -5.648889 42.8016666667,-5.64888888889\n",
       "6 -5.448889 42.0797222222,-5.44888888889"
      ]
     },
     "metadata": {},
     "output_type": "display_data"
    }
   ],
   "source": [
    "dim(datos_alejandro_alquezar)\n",
    "names(datos_alejandro_alquezar)\n",
    "head(datos_alejandro_alquezar)"
   ]
  },
  {
   "cell_type": "markdown",
   "id": "76930983-89ee-4825-b2c8-c407d4daa27f",
   "metadata": {},
   "source": [
    "El dataset contiene 446014 registros y hay en total 13 atributos. El atributo Fecha indica la fecha en la que se realizó el estudio y es del tipo carácter (por ahora). Los atributos CO..mg.m3, NO..ug.m3, NO2..ug.m3, O3..ug.m3, PM10..ug.m3, PM25..ug.m3, SO2..ug.m3 se refieren a las partículas en suspensión que hay en el aire y la primera es del tipo numeric y las demás integer. Y los atributos Provincia, Estación, Latitud, Longitud y Posición se refieren a en que estación se ha realizado cada estudio, adjuntando su posición. Provincia, Estación y Posición son del tipo carácter y Latitud y Longitud del tipo numérico."
   ]
  },
  {
   "cell_type": "markdown",
   "id": "748cec89-9715-468d-b4c0-922340e85d3b",
   "metadata": {},
   "source": [
    "### Primeras mediciones"
   ]
  },
  {
   "cell_type": "code",
   "execution_count": 4,
   "id": "aad81f9f-d49f-476b-a996-5a22f7d9ced3",
   "metadata": {},
   "outputs": [
    {
     "data": {
      "text/plain": [
       "   Min. 1st Qu.  Median    Mean 3rd Qu.    Max.    NA's \n",
       "   0.00   11.00   18.00   22.69   29.00  557.00  101435 "
      ]
     },
     "metadata": {},
     "output_type": "display_data"
    }
   ],
   "source": [
    "summary(datos_alejandro_alquezar$PM10..ug.m3.)"
   ]
  },
  {
   "cell_type": "code",
   "execution_count": 5,
   "id": "157f71f1-bee3-4455-82f4-ceb4c6b41372",
   "metadata": {},
   "outputs": [
    {
     "data": {
      "text/plain": [
       "    Fecha             CO..mg.m3.       NO..ug.m3.       NO2..ug.m3.    \n",
       " Length:446014      Min.   : 0.0     Min.   :-441.00   Min.   :  0.00  \n",
       " Class :character   1st Qu.: 0.3     1st Qu.:   2.00   1st Qu.:  8.00  \n",
       " Mode  :character   Median : 0.7     Median :   5.00   Median : 16.00  \n",
       "                    Mean   : 0.9     Mean   :  13.23   Mean   : 21.41  \n",
       "                    3rd Qu.: 1.1     3rd Qu.:  15.00   3rd Qu.: 29.00  \n",
       "                    Max.   :25.1     Max.   : 634.00   Max.   :249.00  \n",
       "                    NA's   :344856   NA's   :30984     NA's   :32517   \n",
       "   O3..ug.m3.      PM10..ug.m3.     PM25..ug.m3.     SO2..ug.m3.     \n",
       " Min.   :  0.00   Min.   :  0.00   Min.   :  0.0    Min.   :-791.00  \n",
       " 1st Qu.: 37.00   1st Qu.: 11.00   1st Qu.:  5.0    1st Qu.:   2.00  \n",
       " Median : 54.00   Median : 18.00   Median :  9.0    Median :   5.00  \n",
       " Mean   : 52.62   Mean   : 22.69   Mean   : 13.7    Mean   :   9.09  \n",
       " 3rd Qu.: 68.00   3rd Qu.: 29.00   3rd Qu.: 15.0    3rd Qu.:  11.00  \n",
       " Max.   :999.00   Max.   :557.00   Max.   :223.0    Max.   : 364.00  \n",
       " NA's   :170600   NA's   :101435   NA's   :392230   NA's   :89737    \n",
       "  Provincia           Estación            Latitud         Longitud     \n",
       " Length:446014      Length:446014      Min.   :38.94   Min.   :-6.782  \n",
       " Class :character   Class :character   1st Qu.:41.65   1st Qu.:-6.484  \n",
       " Mode  :character   Mode  :character   Median :42.54   Median :-4.909  \n",
       "                                       Mean   :42.15   Mean   :-5.179  \n",
       "                                       3rd Qu.:42.69   3rd Qu.:-4.538  \n",
       "                                       Max.   :43.60   Max.   :-2.467  \n",
       "                                       NA's   :226     NA's   :226     \n",
       "   Posición        \n",
       " Length:446014     \n",
       " Class :character  \n",
       " Mode  :character  \n",
       "                   \n",
       "                   \n",
       "                   \n",
       "                   "
      ]
     },
     "metadata": {},
     "output_type": "display_data"
    }
   ],
   "source": [
    "summary(datos_alejandro_alquezar)"
   ]
  },
  {
   "cell_type": "markdown",
   "id": "c3ec6823-e645-4a39-80c0-f1c7f7cdcfb7",
   "metadata": {},
   "source": [
    "En el caso de PM10..ug.m3 tenemos que la mediana es 18, esto significa que el 50% de los valores de este atributo son iguales o inferiores a 18. Por otro lado, observamos que la media es 22.69, que es más grande que el valor de la mediana, los que nos puede indicar que existan valores muy altos que estén sesgando la media hacia arriba. También tenemos los percentiles, que nos indican que el 25% de los datos son iguales o inferiores a 11 y el 75% iguales o inferiores a 29.\n",
    "En el caso de PM25..ug.m3 tenemos que la mediana es 9, por lo tanto, el 50% de los datos son iguales o inferiores a 9. Observamos también que nuevamente la media vuelve a ser superior a la mediana, en este caso 13.7. Finalmente, tenemos que el primer cuartil (25% de los datos) es 5 y el tercer cuartil (75% de los datos) es 15.\n",
    "PM10..ug.m3 tiene un valor medio superior en este caso."
   ]
  },
  {
   "cell_type": "markdown",
   "id": "66db0005-2a23-4452-8467-449544482ceb",
   "metadata": {},
   "source": [
    "### Formateo de datos"
   ]
  },
  {
   "cell_type": "code",
   "execution_count": 6,
   "id": "277d6932-2019-47d4-b05e-d60f30e3174f",
   "metadata": {},
   "outputs": [
    {
     "data": {
      "text/html": [
       "<table class=\"dataframe\">\n",
       "<caption>A data.frame: 6 × 13</caption>\n",
       "<thead>\n",
       "\t<tr><th></th><th scope=col>Fecha</th><th scope=col>CO..mg.m3.</th><th scope=col>NO..ug.m3.</th><th scope=col>NO2..ug.m3.</th><th scope=col>O3..ug.m3.</th><th scope=col>PM10..ug.m3.</th><th scope=col>PM25..ug.m3.</th><th scope=col>SO2..ug.m3.</th><th scope=col>Provincia</th><th scope=col>Estación</th><th scope=col>Latitud</th><th scope=col>Longitud</th><th scope=col>Posición</th></tr>\n",
       "\t<tr><th></th><th scope=col>&lt;date&gt;</th><th scope=col>&lt;dbl&gt;</th><th scope=col>&lt;int&gt;</th><th scope=col>&lt;int&gt;</th><th scope=col>&lt;int&gt;</th><th scope=col>&lt;int&gt;</th><th scope=col>&lt;int&gt;</th><th scope=col>&lt;int&gt;</th><th scope=col>&lt;chr&gt;</th><th scope=col>&lt;chr&gt;</th><th scope=col>&lt;dbl&gt;</th><th scope=col>&lt;dbl&gt;</th><th scope=col>&lt;chr&gt;</th></tr>\n",
       "</thead>\n",
       "<tbody>\n",
       "\t<tr><th scope=row>1</th><td>2020-12-31</td><td>0.6</td><td>8</td><td>16</td><td>NA</td><td> 6</td><td>NA</td><td> 1</td><td>Burgos</td><td>Burgos1                    </td><td>42.35111</td><td>-3.675556</td><td>42.3511111111,-3.67555555556</td></tr>\n",
       "\t<tr><th scope=row>2</th><td>2020-12-31</td><td> NA</td><td>2</td><td> 6</td><td>NA</td><td> 8</td><td>NA</td><td> 4</td><td>León  </td><td>C.T.L.R. - Naredo          </td><td>42.81667</td><td>-5.533333</td><td>42.8166666667,-5.53333333333</td></tr>\n",
       "\t<tr><th scope=row>3</th><td>2020-12-31</td><td> NA</td><td>8</td><td> 2</td><td>65</td><td> 4</td><td>NA</td><td> 2</td><td>León  </td><td>Carracedelo                </td><td>42.55861</td><td>-6.725556</td><td>42.5586111111,-6.72555555556</td></tr>\n",
       "\t<tr><th scope=row>4</th><td>2020-12-31</td><td> NA</td><td>1</td><td> 4</td><td>58</td><td>21</td><td>NA</td><td>17</td><td>León  </td><td>La Robla                   </td><td>42.80167</td><td>-5.625000</td><td>42.8016666667,-5.625        </td></tr>\n",
       "\t<tr><th scope=row>5</th><td>2020-12-31</td><td> NA</td><td>1</td><td> 1</td><td>NA</td><td> 6</td><td>NA</td><td> 2</td><td>León  </td><td>Tudela Veguin-Tudela Veguin</td><td>42.80167</td><td>-5.648889</td><td>42.8016666667,-5.64888888889</td></tr>\n",
       "\t<tr><th scope=row>6</th><td>2020-12-31</td><td> NA</td><td>2</td><td> 2</td><td>62</td><td> 6</td><td>NA</td><td> 6</td><td>León  </td><td>Valderas                   </td><td>42.07972</td><td>-5.448889</td><td>42.0797222222,-5.44888888889</td></tr>\n",
       "</tbody>\n",
       "</table>\n"
      ],
      "text/latex": [
       "A data.frame: 6 × 13\n",
       "\\begin{tabular}{r|lllllllllllll}\n",
       "  & Fecha & CO..mg.m3. & NO..ug.m3. & NO2..ug.m3. & O3..ug.m3. & PM10..ug.m3. & PM25..ug.m3. & SO2..ug.m3. & Provincia & Estación & Latitud & Longitud & Posición\\\\\n",
       "  & <date> & <dbl> & <int> & <int> & <int> & <int> & <int> & <int> & <chr> & <chr> & <dbl> & <dbl> & <chr>\\\\\n",
       "\\hline\n",
       "\t1 & 2020-12-31 & 0.6 & 8 & 16 & NA &  6 & NA &  1 & Burgos & Burgos1                     & 42.35111 & -3.675556 & 42.3511111111,-3.67555555556\\\\\n",
       "\t2 & 2020-12-31 &  NA & 2 &  6 & NA &  8 & NA &  4 & León   & C.T.L.R. - Naredo           & 42.81667 & -5.533333 & 42.8166666667,-5.53333333333\\\\\n",
       "\t3 & 2020-12-31 &  NA & 8 &  2 & 65 &  4 & NA &  2 & León   & Carracedelo                 & 42.55861 & -6.725556 & 42.5586111111,-6.72555555556\\\\\n",
       "\t4 & 2020-12-31 &  NA & 1 &  4 & 58 & 21 & NA & 17 & León   & La Robla                    & 42.80167 & -5.625000 & 42.8016666667,-5.625        \\\\\n",
       "\t5 & 2020-12-31 &  NA & 1 &  1 & NA &  6 & NA &  2 & León   & Tudela Veguin-Tudela Veguin & 42.80167 & -5.648889 & 42.8016666667,-5.64888888889\\\\\n",
       "\t6 & 2020-12-31 &  NA & 2 &  2 & 62 &  6 & NA &  6 & León   & Valderas                    & 42.07972 & -5.448889 & 42.0797222222,-5.44888888889\\\\\n",
       "\\end{tabular}\n"
      ],
      "text/markdown": [
       "\n",
       "A data.frame: 6 × 13\n",
       "\n",
       "| <!--/--> | Fecha &lt;date&gt; | CO..mg.m3. &lt;dbl&gt; | NO..ug.m3. &lt;int&gt; | NO2..ug.m3. &lt;int&gt; | O3..ug.m3. &lt;int&gt; | PM10..ug.m3. &lt;int&gt; | PM25..ug.m3. &lt;int&gt; | SO2..ug.m3. &lt;int&gt; | Provincia &lt;chr&gt; | Estación &lt;chr&gt; | Latitud &lt;dbl&gt; | Longitud &lt;dbl&gt; | Posición &lt;chr&gt; |\n",
       "|---|---|---|---|---|---|---|---|---|---|---|---|---|---|\n",
       "| 1 | 2020-12-31 | 0.6 | 8 | 16 | NA |  6 | NA |  1 | Burgos | Burgos1                     | 42.35111 | -3.675556 | 42.3511111111,-3.67555555556 |\n",
       "| 2 | 2020-12-31 |  NA | 2 |  6 | NA |  8 | NA |  4 | León   | C.T.L.R. - Naredo           | 42.81667 | -5.533333 | 42.8166666667,-5.53333333333 |\n",
       "| 3 | 2020-12-31 |  NA | 8 |  2 | 65 |  4 | NA |  2 | León   | Carracedelo                 | 42.55861 | -6.725556 | 42.5586111111,-6.72555555556 |\n",
       "| 4 | 2020-12-31 |  NA | 1 |  4 | 58 | 21 | NA | 17 | León   | La Robla                    | 42.80167 | -5.625000 | 42.8016666667,-5.625         |\n",
       "| 5 | 2020-12-31 |  NA | 1 |  1 | NA |  6 | NA |  2 | León   | Tudela Veguin-Tudela Veguin | 42.80167 | -5.648889 | 42.8016666667,-5.64888888889 |\n",
       "| 6 | 2020-12-31 |  NA | 2 |  2 | 62 |  6 | NA |  6 | León   | Valderas                    | 42.07972 | -5.448889 | 42.0797222222,-5.44888888889 |\n",
       "\n"
      ],
      "text/plain": [
       "  Fecha      CO..mg.m3. NO..ug.m3. NO2..ug.m3. O3..ug.m3. PM10..ug.m3.\n",
       "1 2020-12-31 0.6        8          16          NA          6          \n",
       "2 2020-12-31  NA        2           6          NA          8          \n",
       "3 2020-12-31  NA        8           2          65          4          \n",
       "4 2020-12-31  NA        1           4          58         21          \n",
       "5 2020-12-31  NA        1           1          NA          6          \n",
       "6 2020-12-31  NA        2           2          62          6          \n",
       "  PM25..ug.m3. SO2..ug.m3. Provincia Estación                    Latitud \n",
       "1 NA            1          Burgos    Burgos1                     42.35111\n",
       "2 NA            4          León      C.T.L.R. - Naredo           42.81667\n",
       "3 NA            2          León      Carracedelo                 42.55861\n",
       "4 NA           17          León      La Robla                    42.80167\n",
       "5 NA            2          León      Tudela Veguin-Tudela Veguin 42.80167\n",
       "6 NA            6          León      Valderas                    42.07972\n",
       "  Longitud  Posición                    \n",
       "1 -3.675556 42.3511111111,-3.67555555556\n",
       "2 -5.533333 42.8166666667,-5.53333333333\n",
       "3 -6.725556 42.5586111111,-6.72555555556\n",
       "4 -5.625000 42.8016666667,-5.625        \n",
       "5 -5.648889 42.8016666667,-5.64888888889\n",
       "6 -5.448889 42.0797222222,-5.44888888889"
      ]
     },
     "metadata": {},
     "output_type": "display_data"
    }
   ],
   "source": [
    "datos_alejandro_alquezar$Fecha <- as.Date(datos_alejandro_alquezar$Fecha, \"%Y-%m-%d\")\n",
    "datos_alejandro_alquezar$CO..mg.m3. <- as.double(datos_alejandro_alquezar$CO..mg.m3.)\n",
    "datos_alejandro_alquezar$NO..ug.m3. <- as.integer(datos_alejandro_alquezar$NO..ug.m3.)\n",
    "head(datos_alejandro_alquezar)"
   ]
  },
  {
   "cell_type": "markdown",
   "id": "96e0aa01-ae22-45c0-889d-60a47f232139",
   "metadata": {},
   "source": [
    "### Diagrama de cajas"
   ]
  },
  {
   "cell_type": "code",
   "execution_count": 7,
   "id": "d7db255d-b2fc-423d-a845-c0ac88a17f21",
   "metadata": {},
   "outputs": [
    {
     "data": {
      "image/png": "[encoded data removed]",
      "text/plain": [
       "Plot with title \"Air quality by province [ALEJANDRO ALQUEZAR]\""
      ]
     },
     "metadata": {
      "image/png": {
       "height": 420,
       "width": 420
      }
     },
     "output_type": "display_data"
    }
   ],
   "source": [
    "boxplot(CO..mg.m3. ~ Provincia, data = datos_alejandro_alquezar, col = \"red\", xlab = \"Province\", ylab = \"CO (mg/m3)\", ylim = c(0, 3), main = \"Air quality by province [ALEJANDRO ALQUEZAR]\", cex.axis=0.6)"
   ]
  },
  {
   "cell_type": "markdown",
   "id": "d7918fad-eea8-4096-9b30-d40215ebd628",
   "metadata": {},
   "source": [
    "Es un diagrama de caja que nos sirve para identificar valores atípicos y comparar distribuciones de una manera visual. La provincia con valor de monóxido de carbono mínimo es Soria y la provincia con el percentil 75 más alto es Salamanca."
   ]
  },
  {
   "cell_type": "markdown",
   "id": "4a44e6a1-dae9-4b7f-a248-aed8e67772b2",
   "metadata": {},
   "source": [
    "### PM10 en Zamora"
   ]
  },
  {
   "cell_type": "markdown",
   "id": "868419be-a1d3-430a-8703-3cdc65ececae",
   "metadata": {},
   "source": [
    "Nos centramos ahora en la medida PM10 para la provincia de Zamora durante los años 2014 y 2015."
   ]
  },
  {
   "cell_type": "code",
   "execution_count": 8,
   "id": "1af1f15b-c499-4fab-a3d2-ffd1724e00c2",
   "metadata": {},
   "outputs": [],
   "source": [
    "datosZA2014 <- subset(datos_alejandro_alquezar, Provincia == \"Zamora\" & Estación == \"Zamora 2\" & Fecha >= \"2014-01-01\" & Fecha <= \"2014-12-31\")\n",
    "datosZA2015 <- subset(datos_alejandro_alquezar, Provincia == \"Zamora\" & Estación == \"Zamora 2\" & Fecha >= \"2015-01-01\" & Fecha <= \"2015-12-31\")"
   ]
  },
  {
   "cell_type": "code",
   "execution_count": 9,
   "id": "597ef9df-4308-4f68-9035-33edd488ae2c",
   "metadata": {},
   "outputs": [
    {
     "data": {
      "image/png": "[encoded data removed]",
      "text/plain": [
       "Plot with title \"Air quality in Zamora [ALEJANDRO ALQUEZAR]\""
      ]
     },
     "metadata": {
      "image/png": {
       "height": 420,
       "width": 420
      }
     },
     "output_type": "display_data"
    }
   ],
   "source": [
    "boxplot(datosZA2014$PM10..ug.m3., datosZA2015$PM10..ug.m3., col = \"red\", xlab = \"Year\", ylab = \"PM10 (ug/m3)\", names = c(\"2014\", \"2015\"), main = \"Air quality in Zamora [ALEJANDRO ALQUEZAR]\")"
   ]
  },
  {
   "cell_type": "markdown",
   "id": "f0836b1b-0068-4280-8d6a-2e664579ef3f",
   "metadata": {},
   "source": [
    "En 2014 se obtuvo un valor mediano más bajo. En 2015 se obtuvo un valor máximo más alto. Los puntos por encima del valor máximo se consideran valores atípicos (outliers) y son valores que caen fuera del rango esperado y que pueden causar errores."
   ]
  },
  {
   "cell_type": "code",
   "execution_count": 10,
   "id": "492ee3bf-7803-4413-8139-f14325edb3ed",
   "metadata": {},
   "outputs": [
    {
     "data": {
      "image/png": "[encoded data removed]",
      "text/plain": [
       "Plot with title \"Air quality in Zamora in 2015 [ALEJANDRO ALQUEZAR]\""
      ]
     },
     "metadata": {
      "image/png": {
       "height": 420,
       "width": 420
      }
     },
     "output_type": "display_data"
    }
   ],
   "source": [
    "hist(datosZA2015$PM10..ug.m3., col = \"blue\", xlab = \"PM10 (ug/m3)\", ylab = \"Frequency\", main = \"Air quality in Zamora in 2015 [ALEJANDRO ALQUEZAR]\")\n",
    "rug(datosZA2015$PM10..ug.m3.)"
   ]
  },
  {
   "cell_type": "markdown",
   "id": "c01bf8e5-f67a-4188-afea-9c63e8ed440a",
   "metadata": {},
   "source": [
    "El gráfico de arriba es un gráfico de barras que nos indica la cantidad de veces que se repiten los valores de PM10 (ug/m3). El rango de medidas más frecuentes se encuentra entre el 10 y el 15."
   ]
  },
  {
   "cell_type": "markdown",
   "id": "4a7c1d8a-260f-4019-bc60-695fbd69c916",
   "metadata": {},
   "source": [
    "### Diagrama de dispersión"
   ]
  },
  {
   "cell_type": "code",
   "execution_count": 11,
   "id": "d1ede179-8a40-4836-84cc-473afa23e7c9",
   "metadata": {},
   "outputs": [
    {
     "name": "stderr",
     "output_type": "stream",
     "text": [
      "Warning message:\n",
      "\"\u001b[1m\u001b[22m`qplot()` was deprecated in ggplot2 3.4.0.\"\n",
      "Warning message:\n",
      "\"\u001b[1m\u001b[22mRemoved 3 rows containing missing values or values outside the scale range (`geom_point()`).\"\n"
     ]
    },
    {
     "data": {
      "image/png": "[encoded data removed]",
      "text/plain": [
       "plot without title"
      ]
     },
     "metadata": {
      "image/png": {
       "height": 420,
       "width": 420
      }
     },
     "output_type": "display_data"
    }
   ],
   "source": [
    "library(ggplot2)\n",
    "qplot(NO2..ug.m3., PM10..ug.m3., data = datosZA2015, main = \"ALEJANDRO ALQUEZAR\")"
   ]
  },
  {
   "cell_type": "markdown",
   "id": "47c05307-4adc-4414-9be8-a12f08fe3a6e",
   "metadata": {},
   "source": [
    "El gráfico superior es un diagrama de dispersión que nos ayuda a visualizar la correlación entre las dos variables indicadas. En este caso el gráfico muestra una relación positiva."
   ]
  },
  {
   "cell_type": "code",
   "execution_count": 12,
   "id": "4c86ec67-0a25-4eef-ae45-c23226071c4a",
   "metadata": {},
   "outputs": [
    {
     "name": "stderr",
     "output_type": "stream",
     "text": [
      "Warning message:\n",
      "\"\u001b[1m\u001b[22mRemoved 3 rows containing missing values or values outside the scale range (`geom_point()`).\"\n"
     ]
    },
    {
     "data": {
      "image/png": "[encoded data removed]",
      "text/plain": [
       "plot without title"
      ]
     },
     "metadata": {
      "image/png": {
       "height": 420,
       "width": 420
      }
     },
     "output_type": "display_data"
    }
   ],
   "source": [
    "qplot(NO2..ug.m3., NO..ug.m3., data = datosZA2015, main = \"ALEJANDRO ALQUEZAR\")"
   ]
  },
  {
   "cell_type": "markdown",
   "id": "5541bb81-2967-4505-96f3-dcd594005038",
   "metadata": {},
   "source": [
    "Existe una correlación positiva exponencial y tiene una mayor correlación que el anterior."
   ]
  },
  {
   "cell_type": "code",
   "execution_count": 14,
   "id": "ca834597-815c-46f2-a541-9dfc36955778",
   "metadata": {},
   "outputs": [
    {
     "data": {
      "text/plain": [
       "     Fecha              CO..mg.m3.    NO..ug.m3.      NO2..ug.m3.   \n",
       " Min.   :2015-01-01   Min.   : NA   Min.   : 1.000   Min.   : 1.00  \n",
       " 1st Qu.:2015-04-02   1st Qu.: NA   1st Qu.: 2.000   1st Qu.: 7.00  \n",
       " Median :2015-07-02   Median : NA   Median : 3.000   Median :12.00  \n",
       " Mean   :2015-07-02   Mean   :NaN   Mean   : 5.467   Mean   :12.16  \n",
       " 3rd Qu.:2015-10-01   3rd Qu.: NA   3rd Qu.: 6.000   3rd Qu.:17.00  \n",
       " Max.   :2015-12-31   Max.   : NA   Max.   :50.000   Max.   :39.00  \n",
       "                      NA's   :365   NA's   :3        NA's   :3      \n",
       "   O3..ug.m3.      PM10..ug.m3.    PM25..ug.m3.  SO2..ug.m3.   \n",
       " Min.   :  2.00   Min.   : 3.00   Min.   : NA   Min.   :1.000  \n",
       " 1st Qu.: 39.00   1st Qu.:10.00   1st Qu.: NA   1st Qu.:1.000  \n",
       " Median : 65.00   Median :15.00   Median : NA   Median :2.000  \n",
       " Mean   : 58.29   Mean   :16.49   Mean   :NaN   Mean   :1.921  \n",
       " 3rd Qu.: 77.00   3rd Qu.:20.00   3rd Qu.: NA   3rd Qu.:2.000  \n",
       " Max.   :121.00   Max.   :58.00   Max.   : NA   Max.   :5.000  \n",
       " NA's   :4                        NA's   :365                  \n",
       "  Provincia           Estación            Latitud         Longitud     \n",
       " Length:365         Length:365         Min.   :41.51   Min.   :-5.746  \n",
       " Class :character   Class :character   1st Qu.:41.51   1st Qu.:-5.746  \n",
       " Mode  :character   Mode  :character   Median :41.51   Median :-5.746  \n",
       "                                       Mean   :41.51   Mean   :-5.746  \n",
       "                                       3rd Qu.:41.51   3rd Qu.:-5.746  \n",
       "                                       Max.   :41.51   Max.   :-5.746  \n",
       "                                                                       \n",
       "   Posición        \n",
       " Length:365        \n",
       " Class :character  \n",
       " Mode  :character  \n",
       "                   \n",
       "                   \n",
       "                   \n",
       "                   "
      ]
     },
     "metadata": {},
     "output_type": "display_data"
    }
   ],
   "source": [
    "summary(datosZA2015)"
   ]
  },
  {
   "cell_type": "markdown",
   "id": "ac13bfc2-b69b-4e02-9a29-708e90c9b678",
   "metadata": {},
   "source": [
    "### Datos incompletos, correlación y regresión lineal"
   ]
  },
  {
   "cell_type": "markdown",
   "id": "bf2aa58d-f0e4-4e3e-9f01-0188c5973f53",
   "metadata": {},
   "source": [
    "Primero que todo vamos a mirar las fechas en la que los datos están incompletos"
   ]
  },
  {
   "cell_type": "code",
   "execution_count": 16,
   "id": "ec0d9056-42f9-4421-b473-3ce796cc75d7",
   "metadata": {},
   "outputs": [
    {
     "data": {
      "text/html": [],
      "text/latex": [],
      "text/markdown": [],
      "text/plain": [
       "Date of length 0"
      ]
     },
     "metadata": {},
     "output_type": "display_data"
    },
    {
     "data": {
      "text/html": [
       "<style>\n",
       ".list-inline {list-style: none; margin:0; padding: 0}\n",
       ".list-inline>li {display: inline-block}\n",
       ".list-inline>li:not(:last-child)::after {content: \"\\00b7\"; padding: 0 .5ex}\n",
       "</style>\n",
       "<ol class=list-inline><li><time datetime=\"2015-03-19\">2015-03-19</time></li><li><time datetime=\"2015-03-18\">2015-03-18</time></li><li><time datetime=\"2015-03-17\">2015-03-17</time></li></ol>\n"
      ],
      "text/latex": [
       "\\begin{enumerate*}\n",
       "\\item 2015-03-19\n",
       "\\item 2015-03-18\n",
       "\\item 2015-03-17\n",
       "\\end{enumerate*}\n"
      ],
      "text/markdown": [
       "1. 2015-03-19\n",
       "2. 2015-03-18\n",
       "3. 2015-03-17\n",
       "\n",
       "\n"
      ],
      "text/plain": [
       "[1] \"2015-03-19\" \"2015-03-18\" \"2015-03-17\""
      ]
     },
     "metadata": {},
     "output_type": "display_data"
    },
    {
     "data": {
      "text/html": [
       "<style>\n",
       ".list-inline {list-style: none; margin:0; padding: 0}\n",
       ".list-inline>li {display: inline-block}\n",
       ".list-inline>li:not(:last-child)::after {content: \"\\00b7\"; padding: 0 .5ex}\n",
       "</style>\n",
       "<ol class=list-inline><li><time datetime=\"2015-03-19\">2015-03-19</time></li><li><time datetime=\"2015-03-18\">2015-03-18</time></li><li><time datetime=\"2015-03-17\">2015-03-17</time></li></ol>\n"
      ],
      "text/latex": [
       "\\begin{enumerate*}\n",
       "\\item 2015-03-19\n",
       "\\item 2015-03-18\n",
       "\\item 2015-03-17\n",
       "\\end{enumerate*}\n"
      ],
      "text/markdown": [
       "1. 2015-03-19\n",
       "2. 2015-03-18\n",
       "3. 2015-03-17\n",
       "\n",
       "\n"
      ],
      "text/plain": [
       "[1] \"2015-03-19\" \"2015-03-18\" \"2015-03-17\""
      ]
     },
     "metadata": {},
     "output_type": "display_data"
    }
   ],
   "source": [
    "datosZA2015$Fecha[is.na(datosZA2015$PM10..ug.m3.)]\n",
    "datosZA2015$Fecha[is.na(datosZA2015$NO2..ug.m3.)]\n",
    "datosZA2015$Fecha[is.na(datosZA2015$NO..ug.m3.)]"
   ]
  },
  {
   "cell_type": "markdown",
   "id": "cd46d1a2-ebe4-4737-b8dc-ae9ddcf73c27",
   "metadata": {},
   "source": [
    "Reemplazamos los datos que faltan uno por uno por la media del resto de los valores."
   ]
  },
  {
   "cell_type": "code",
   "execution_count": 17,
   "id": "d3e940b9-3048-42f0-a52d-6303072ffba9",
   "metadata": {},
   "outputs": [],
   "source": [
    "datosZA2015PM10 <- datosZA2015$PM10..ug.m3.\n",
    "datosZA2015NO2 <- datosZA2015$NO2..ug.m3.\n",
    "datosZA2015NO <- datosZA2015$NO..ug.m3.\n",
    "mediaPM10 <- mean(datosZA2015PM10[!is.na(datosZA2015PM10)])\n",
    "mediaNO2 <- mean(datosZA2015NO2[!is.na(datosZA2015NO2)])\n",
    "mediaNO <- mean(datosZA2015NO[!is.na(datosZA2015NO)])\n",
    "datosZA2015PM10[is.na(datosZA2015PM10)] <- mediaPM10\n",
    "datosZA2015NO2[is.na(datosZA2015NO2)] <- mediaNO2\n",
    "datosZA2015NO[is.na(datosZA2015NO)] <- mediaNO"
   ]
  },
  {
   "cell_type": "markdown",
   "id": "5911ae01-5561-420b-a221-9a64029e39a1",
   "metadata": {},
   "source": [
    "Comprobamos ahora la correlación entre las variables"
   ]
  },
  {
   "cell_type": "code",
   "execution_count": 18,
   "id": "472fe918-4341-401a-bf25-d0ca6100d6ae",
   "metadata": {},
   "outputs": [
    {
     "data": {
      "text/html": [
       "0.126621957646156"
      ],
      "text/latex": [
       "0.126621957646156"
      ],
      "text/markdown": [
       "0.126621957646156"
      ],
      "text/plain": [
       "[1] 0.126622"
      ]
     },
     "metadata": {},
     "output_type": "display_data"
    },
    {
     "data": {
      "text/html": [
       "0.625867819989448"
      ],
      "text/latex": [
       "0.625867819989448"
      ],
      "text/markdown": [
       "0.625867819989448"
      ],
      "text/plain": [
       "[1] 0.6258678"
      ]
     },
     "metadata": {},
     "output_type": "display_data"
    }
   ],
   "source": [
    "cor(datosZA2015NO2, datosZA2015PM10)\n",
    "cor(datosZA2015NO2, datosZA2015NO)"
   ]
  },
  {
   "cell_type": "markdown",
   "id": "19b6a3ef-2dc7-4270-9653-16b3b3f31787",
   "metadata": {},
   "source": [
    "Las variables de NO y NO2 tienen una mayor correlación entre sí que las variables NO2 y PM10. Esto se debe a que el valor de correlación es más elevado y más alejado de 0. La correlación no implica causalidad, por tanto, en el contexto de regresiones lineales, una alta correlación entre dos variables puede sugerir la posibilidad de que haya una relación lineal entre ellas, pero una regresión lineal no establece causalidad por sí misma. Una correlación alta sugiere una asociación más fuerte entre dos variables, pero no puede afirmar que exista causalidad."
   ]
  },
  {
   "cell_type": "code",
   "execution_count": 19,
   "id": "18a0d7d8-9652-4f0b-a307-817e4a1e8395",
   "metadata": {},
   "outputs": [
    {
     "data": {
      "text/html": [
       "<style>\n",
       ".list-inline {list-style: none; margin:0; padding: 0}\n",
       ".list-inline>li {display: inline-block}\n",
       ".list-inline>li:not(:last-child)::after {content: \"\\00b7\"; padding: 0 .5ex}\n",
       "</style>\n",
       "<ol class=list-inline><li><time datetime=\"2014-12-02\">2014-12-02</time></li><li><time datetime=\"2014-08-10\">2014-08-10</time></li><li><time datetime=\"2014-07-10\">2014-07-10</time></li><li><time datetime=\"2014-07-04\">2014-07-04</time></li><li><time datetime=\"2014-06-04\">2014-06-04</time></li><li><time datetime=\"2014-03-27\">2014-03-27</time></li><li><time datetime=\"2014-03-26\">2014-03-26</time></li><li><time datetime=\"2014-03-25\">2014-03-25</time></li><li><time datetime=\"2014-03-24\">2014-03-24</time></li><li><time datetime=\"2014-03-23\">2014-03-23</time></li><li><time datetime=\"2014-03-22\">2014-03-22</time></li><li><time datetime=\"2014-02-13\">2014-02-13</time></li></ol>\n"
      ],
      "text/latex": [
       "\\begin{enumerate*}\n",
       "\\item 2014-12-02\n",
       "\\item 2014-08-10\n",
       "\\item 2014-07-10\n",
       "\\item 2014-07-04\n",
       "\\item 2014-06-04\n",
       "\\item 2014-03-27\n",
       "\\item 2014-03-26\n",
       "\\item 2014-03-25\n",
       "\\item 2014-03-24\n",
       "\\item 2014-03-23\n",
       "\\item 2014-03-22\n",
       "\\item 2014-02-13\n",
       "\\end{enumerate*}\n"
      ],
      "text/markdown": [
       "1. 2014-12-02\n",
       "2. 2014-08-10\n",
       "3. 2014-07-10\n",
       "4. 2014-07-04\n",
       "5. 2014-06-04\n",
       "6. 2014-03-27\n",
       "7. 2014-03-26\n",
       "8. 2014-03-25\n",
       "9. 2014-03-24\n",
       "10. 2014-03-23\n",
       "11. 2014-03-22\n",
       "12. 2014-02-13\n",
       "\n",
       "\n"
      ],
      "text/plain": [
       " [1] \"2014-12-02\" \"2014-08-10\" \"2014-07-10\" \"2014-07-04\" \"2014-06-04\"\n",
       " [6] \"2014-03-27\" \"2014-03-26\" \"2014-03-25\" \"2014-03-24\" \"2014-03-23\"\n",
       "[11] \"2014-03-22\" \"2014-02-13\""
      ]
     },
     "metadata": {},
     "output_type": "display_data"
    }
   ],
   "source": [
    "datosZA2014$Fecha[is.na(datosZA2014$PM10..ug.m3.)]"
   ]
  },
  {
   "cell_type": "code",
   "execution_count": 20,
   "id": "f0b38338-f5d1-45d4-a1eb-61ef360598f6",
   "metadata": {},
   "outputs": [
    {
     "data": {
      "image/png": "[encoded data removed]",
      "text/plain": [
       "Plot with title \"Calidad del aire en Zamora NOMBRE APELLIDO\""
      ]
     },
     "metadata": {
      "image/png": {
       "height": 420,
       "width": 420
      }
     },
     "output_type": "display_data"
    }
   ],
   "source": [
    "plot(PM10..ug.m3. ~ Fecha, data=subset(datosZA2014, Fecha >= \"2014-02-01\" & Fecha <= \"2014-02-14\"), main = \"Calidad del aire en Zamora NOMBRE APELLIDO\")\n",
    "lines(PM10..ug.m3. ~ Fecha, data = subset(datosZA2014, Fecha >= \"2014-02-01\" & Fecha <= \"2014-02-14\"), col = \"red\")\n",
    "fit1 <- lm(PM10..ug.m3. ~ Fecha, data = subset(datosZA2014, Fecha >= \"2014-02-01\" & Fecha <= \"2014-02-14\"))\n",
    "abline(fit1, col = \"blue\")"
   ]
  },
  {
   "cell_type": "markdown",
   "id": "915f3218-0524-4c83-8894-7c40c2fe1752",
   "metadata": {},
   "source": [
    "La línea roja representa la unión de los valores de PM10 en las fechas indicadas y la línea azul indica la tendencia de los valores, como podemos observar la tendencia es al alza, lo que indica que el nivel de partículas PM10 en Zamora aumenta en las fechas mostradas."
   ]
  },
  {
   "cell_type": "code",
   "execution_count": 21,
   "id": "d88b6733-f106-40da-a2d0-9e5572da1b13",
   "metadata": {},
   "outputs": [
    {
     "data": {
      "text/html": [
       "62.8860117782755"
      ],
      "text/latex": [
       "62.8860117782755"
      ],
      "text/markdown": [
       "62.8860117782755"
      ],
      "text/plain": [
       "[1] 62.88601"
      ]
     },
     "metadata": {},
     "output_type": "display_data"
    }
   ],
   "source": [
    "realPM10 <- subset(datosZA2014, Fecha >= \"2014-02-01\" & Fecha <= \"2014-02-14\")\n",
    "realPM10 <- realPM10$PM10..ug.m3.\n",
    "predPM10 <- predict(fit1, subset(datosZA2014, Fecha >= \"2014-02-01\" &Fecha <= \"2014-02-14\"))\n",
    "errorPM10 <- realPM10 - predPM10\n",
    "errorPM10 <- errorPM10[!is.na(errorPM10)]\n",
    "sum(errorPM10^2) / length(errorPM10)"
   ]
  },
  {
   "cell_type": "markdown",
   "id": "241f0ce6-e53b-4500-a7c8-da4e8fc61a3e",
   "metadata": {},
   "source": [
    "El valor obtenido en la última línea es el error cuadrático medio, que cuantifica la diferencia promedio al cuadrado entre los valores predichos por un modelo y los valores reales observados. En este caso el valor obtenido es: **62.88601**. Un ECM más bajo podría indicar un mejor modelo, pero no es suficiente considerar solo este valor para evaluar completamente a un modelo. Si se crease otro modelo y obtuviéramos un valor superior, eso indicaría que el modelo creado anteriormente tiene un rendimiento superior y, por tanto, sería mejor."
   ]
  },
  {
   "cell_type": "markdown",
   "id": "88eeb6d5-8449-4697-bdc5-921c1200fa0b",
   "metadata": {},
   "source": [
    "Ahora haremos predicciones para los valores que faltan en las fechas 12 y 13 de Febrero de 2024 usando regresión lineal."
   ]
  },
  {
   "cell_type": "code",
   "execution_count": 22,
   "id": "aacac1ff-3ac8-4ccf-ac27-150cd0cff9b4",
   "metadata": {},
   "outputs": [
    {
     "data": {
      "text/html": [
       "11"
      ],
      "text/latex": [
       "11"
      ],
      "text/markdown": [
       "11"
      ],
      "text/plain": [
       "[1] 11"
      ]
     },
     "metadata": {},
     "output_type": "display_data"
    },
    {
     "data": {
      "text/html": [
       "&lt;NA&gt;"
      ],
      "text/latex": [
       "<NA>"
      ],
      "text/markdown": [
       "&lt;NA&gt;"
      ],
      "text/plain": [
       "[1] NA"
      ]
     },
     "metadata": {},
     "output_type": "display_data"
    },
    {
     "data": {
      "text/html": [
       "14.7008681925818"
      ],
      "text/latex": [
       "14.7008681925818"
      ],
      "text/markdown": [
       "14.7008681925818"
      ],
      "text/plain": [
       "[1] 14.70087"
      ]
     },
     "metadata": {},
     "output_type": "display_data"
    },
    {
     "data": {
      "text/html": [
       "15.2182320442007"
      ],
      "text/latex": [
       "15.2182320442007"
      ],
      "text/markdown": [
       "15.2182320442007"
      ],
      "text/plain": [
       "[1] 15.21823"
      ]
     },
     "metadata": {},
     "output_type": "display_data"
    }
   ],
   "source": [
    "subset(datosZA2014, Fecha == \"2014-02-12\")$PM10..ug.m3.\n",
    "subset(datosZA2014, Fecha == \"2014-02-13\")$PM10..ug.m3.\n",
    "datosZA2014$PM10..ug.m3.[datosZA2014$Fecha == \"2014-02-12\"] <- predict(fit1, data.frame(Fecha = as.Date(\"2014-02-12\")))\n",
    "datosZA2014$PM10..ug.m3.[datosZA2014$Fecha == \"2014-02-13\"] <- predict(fit1, data.frame(Fecha = as.Date(\"2014-02-13\")))\n",
    "subset(datosZA2014, Fecha == \"2014-02-12\")$PM10..ug.m3.\n",
    "subset(datosZA2014, Fecha == \"2014-02-13\")$PM10..ug.m3."
   ]
  },
  {
   "cell_type": "markdown",
   "id": "d93bb119-d327-4a46-a0ab-bfe6a2d14ecd",
   "metadata": {},
   "source": [
    "El regresor lineal ha estimado los siguientes valores para las fechas faltantes:\n",
    "· 12-02-2014: **14.70087**\n",
    "· 13-02-2014: **15.21823**"
   ]
  }
 ],
 "metadata": {
  "kernelspec": {
   "display_name": "R",
   "language": "R",
   "name": "ir"
  },
  "language_info": {
   "codemirror_mode": "r",
   "file_extension": ".r",
   "mimetype": "text/x-r-source",
   "name": "R",
   "pygments_lexer": "r",
   "version": "4.3.3"
  }
 },
 "nbformat": 4,
 "nbformat_minor": 5
}
