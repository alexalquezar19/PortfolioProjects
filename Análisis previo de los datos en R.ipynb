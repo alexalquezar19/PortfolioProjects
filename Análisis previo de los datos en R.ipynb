{
 "cells": [
  {
   "cell_type": "markdown",
   "id": "d99c5433-38cc-4fb6-b191-ebd6c37b958f",
   "metadata": {},
   "source": [
    "Alejandro Alquezar Pitarch - Proyecto Universitario"
   ]
  },
  {
   "cell_type": "markdown",
   "id": "766cb82a-ff09-44b0-ae95-b18eaf134f15",
   "metadata": {},
   "source": [
    "# Análisis previo de los datos"
   ]
  },
  {
   "cell_type": "code",
   "execution_count": 6,
   "id": "5b1eb0f6-ce9c-4a5d-835b-c6f8b68f3f43",
   "metadata": {},
   "outputs": [],
   "source": [
    "library(readr)\n",
    "library(dplyr)\n",
    "library(GGally)\n",
    "library(ggplot2)"
   ]
  },
  {
   "cell_type": "markdown",
   "id": "3babba6b-e123-4801-9f57-1a3062f78766",
   "metadata": {},
   "source": [
    "Primero que todo leemos los datos de nuestro archivo csv, indicando que tenemos\r\n",
    "cabecera, el separador es “;” y que los decimales se tratan con “,”.\r"
   ]
  },
  {
   "cell_type": "code",
   "execution_count": 42,
   "id": "b75424fd-2dba-402f-9e23-802a1ae19180",
   "metadata": {},
   "outputs": [],
   "source": [
    "datos <- read.csv(\"almacén.csv\", header = TRUE, sep = \";\", encoding = \"latin1\", dec = \",\")"
   ]
  },
  {
   "cell_type": "code",
   "execution_count": 43,
   "id": "988ec9f2-5d1e-43fe-bda4-e5205a2290b5",
   "metadata": {},
   "outputs": [
    {
     "data": {
      "text/html": [
       "<table class=\"dataframe\">\n",
       "<caption>A data.frame: 6 × 20</caption>\n",
       "<thead>\n",
       "\t<tr><th></th><th scope=col>DNI</th><th scope=col>tfno</th><th scope=col>ciudad</th><th scope=col>sexo</th><th scope=col>hijos</th><th scope=col>casapropia</th><th scope=col>compra</th><th scope=col>horacompra</th><th scope=col>gastomensual</th><th scope=col>díacompra</th><th scope=col>fecha_nac</th><th scope=col>edad</th><th scope=col>compra_A</th><th scope=col>edadendías</th><th scope=col>puesto</th><th scope=col>sueldo</th><th scope=col>fecha_trab</th><th scope=col>años_trab</th><th scope=col>días</th><th scope=col>hora_cod</th></tr>\n",
       "\t<tr><th></th><th scope=col>&lt;chr&gt;</th><th scope=col>&lt;chr&gt;</th><th scope=col>&lt;int&gt;</th><th scope=col>&lt;chr&gt;</th><th scope=col>&lt;chr&gt;</th><th scope=col>&lt;chr&gt;</th><th scope=col>&lt;chr&gt;</th><th scope=col>&lt;int&gt;</th><th scope=col>&lt;dbl&gt;</th><th scope=col>&lt;chr&gt;</th><th scope=col>&lt;chr&gt;</th><th scope=col>&lt;int&gt;</th><th scope=col>&lt;chr&gt;</th><th scope=col>&lt;chr&gt;</th><th scope=col>&lt;chr&gt;</th><th scope=col>&lt;chr&gt;</th><th scope=col>&lt;chr&gt;</th><th scope=col>&lt;int&gt;</th><th scope=col>&lt;chr&gt;</th><th scope=col>&lt;chr&gt;</th></tr>\n",
       "</thead>\n",
       "<tbody>\n",
       "\t<tr><th scope=row>1</th><td>11.979.539</td><td>682.049.331</td><td>2</td><td>hombre</td><td>sí</td><td>sí</td><td>grandes superficies</td><td>17</td><td>474.6</td><td>sábado </td><td>23-may-74</td><td>40</td><td>fin de semana</td><td>14.671</td><td>directivo     </td><td>2.818</td><td>13-sep-96</td><td>18</td><td>6.641 </td><td>tarde</td></tr>\n",
       "\t<tr><th scope=row>2</th><td>12.747.663</td><td>642.032.996</td><td>3</td><td>mujer </td><td>sí</td><td>no</td><td>grandes superficies</td><td>17</td><td>451.8</td><td>viernes</td><td>26-dic-74</td><td>40</td><td>laborable    </td><td>14.458</td><td>jefe          </td><td>2.000</td><td>24-jul-96</td><td>18</td><td>6.690 </td><td>tarde</td></tr>\n",
       "\t<tr><th scope=row>3</th><td>13.025.242</td><td>635.777.048</td><td>3</td><td>mujer </td><td>sí</td><td>no</td><td>grandes superficies</td><td>19</td><td>724.6</td><td>viernes</td><td>26-dic-67</td><td>47</td><td>laborable    </td><td>16.978</td><td>jefe          </td><td>2.482</td><td>03-jun-89</td><td>25</td><td>9.261 </td><td>tarde</td></tr>\n",
       "\t<tr><th scope=row>4</th><td>17.643.120</td><td>617.838.177</td><td>2</td><td>mujer </td><td>sí</td><td>sí</td><td>grandes superficies</td><td>18</td><td>674.2</td><td>sábado </td><td>30-sep-63</td><td>51</td><td>fin de semana</td><td>18.504</td><td>administrativo</td><td>1.425</td><td>04-jul-85</td><td>29</td><td>10.670</td><td>tarde</td></tr>\n",
       "\t<tr><th scope=row>5</th><td>19.425.576</td><td>659.932.179</td><td>3</td><td>hombre</td><td>sí</td><td>no</td><td>grandes superficies</td><td>14</td><td>590.3</td><td>viernes</td><td>12-may-66</td><td>48</td><td>laborable    </td><td>17.562</td><td>directivo     </td><td>3.900</td><td>20-abr-88</td><td>26</td><td>9.664 </td><td>tarde</td></tr>\n",
       "\t<tr><th scope=row>6</th><td>19.800.499</td><td>657.097.488</td><td>4</td><td>mujer </td><td>sí</td><td>sí</td><td>super. barrio      </td><td>20</td><td>623.8</td><td>viernes</td><td>19-oct-66</td><td>48</td><td>laborable    </td><td>17.405</td><td>directivo     </td><td>4.215</td><td>16-jul-88</td><td>26</td><td>9.578 </td><td>noche</td></tr>\n",
       "</tbody>\n",
       "</table>\n"
      ],
      "text/latex": [
       "A data.frame: 6 × 20\n",
       "\\begin{tabular}{r|llllllllllllllllllll}\n",
       "  & DNI & tfno & ciudad & sexo & hijos & casapropia & compra & horacompra & gastomensual & díacompra & fecha\\_nac & edad & compra\\_A & edadendías & puesto & sueldo & fecha\\_trab & años\\_trab & días & hora\\_cod\\\\\n",
       "  & <chr> & <chr> & <int> & <chr> & <chr> & <chr> & <chr> & <int> & <dbl> & <chr> & <chr> & <int> & <chr> & <chr> & <chr> & <chr> & <chr> & <int> & <chr> & <chr>\\\\\n",
       "\\hline\n",
       "\t1 & 11.979.539 & 682.049.331 & 2 & hombre & sí & sí & grandes superficies & 17 & 474.6 & sábado  & 23-may-74 & 40 & fin de semana & 14.671 & directivo      & 2.818 & 13-sep-96 & 18 & 6.641  & tarde\\\\\n",
       "\t2 & 12.747.663 & 642.032.996 & 3 & mujer  & sí & no & grandes superficies & 17 & 451.8 & viernes & 26-dic-74 & 40 & laborable     & 14.458 & jefe           & 2.000 & 24-jul-96 & 18 & 6.690  & tarde\\\\\n",
       "\t3 & 13.025.242 & 635.777.048 & 3 & mujer  & sí & no & grandes superficies & 19 & 724.6 & viernes & 26-dic-67 & 47 & laborable     & 16.978 & jefe           & 2.482 & 03-jun-89 & 25 & 9.261  & tarde\\\\\n",
       "\t4 & 17.643.120 & 617.838.177 & 2 & mujer  & sí & sí & grandes superficies & 18 & 674.2 & sábado  & 30-sep-63 & 51 & fin de semana & 18.504 & administrativo & 1.425 & 04-jul-85 & 29 & 10.670 & tarde\\\\\n",
       "\t5 & 19.425.576 & 659.932.179 & 3 & hombre & sí & no & grandes superficies & 14 & 590.3 & viernes & 12-may-66 & 48 & laborable     & 17.562 & directivo      & 3.900 & 20-abr-88 & 26 & 9.664  & tarde\\\\\n",
       "\t6 & 19.800.499 & 657.097.488 & 4 & mujer  & sí & sí & super. barrio       & 20 & 623.8 & viernes & 19-oct-66 & 48 & laborable     & 17.405 & directivo      & 4.215 & 16-jul-88 & 26 & 9.578  & noche\\\\\n",
       "\\end{tabular}\n"
      ],
      "text/markdown": [
       "\n",
       "A data.frame: 6 × 20\n",
       "\n",
       "| <!--/--> | DNI &lt;chr&gt; | tfno &lt;chr&gt; | ciudad &lt;int&gt; | sexo &lt;chr&gt; | hijos &lt;chr&gt; | casapropia &lt;chr&gt; | compra &lt;chr&gt; | horacompra &lt;int&gt; | gastomensual &lt;dbl&gt; | díacompra &lt;chr&gt; | fecha_nac &lt;chr&gt; | edad &lt;int&gt; | compra_A &lt;chr&gt; | edadendías &lt;chr&gt; | puesto &lt;chr&gt; | sueldo &lt;chr&gt; | fecha_trab &lt;chr&gt; | años_trab &lt;int&gt; | días &lt;chr&gt; | hora_cod &lt;chr&gt; |\n",
       "|---|---|---|---|---|---|---|---|---|---|---|---|---|---|---|---|---|---|---|---|---|\n",
       "| 1 | 11.979.539 | 682.049.331 | 2 | hombre | sí | sí | grandes superficies | 17 | 474.6 | sábado  | 23-may-74 | 40 | fin de semana | 14.671 | directivo      | 2.818 | 13-sep-96 | 18 | 6.641  | tarde |\n",
       "| 2 | 12.747.663 | 642.032.996 | 3 | mujer  | sí | no | grandes superficies | 17 | 451.8 | viernes | 26-dic-74 | 40 | laborable     | 14.458 | jefe           | 2.000 | 24-jul-96 | 18 | 6.690  | tarde |\n",
       "| 3 | 13.025.242 | 635.777.048 | 3 | mujer  | sí | no | grandes superficies | 19 | 724.6 | viernes | 26-dic-67 | 47 | laborable     | 16.978 | jefe           | 2.482 | 03-jun-89 | 25 | 9.261  | tarde |\n",
       "| 4 | 17.643.120 | 617.838.177 | 2 | mujer  | sí | sí | grandes superficies | 18 | 674.2 | sábado  | 30-sep-63 | 51 | fin de semana | 18.504 | administrativo | 1.425 | 04-jul-85 | 29 | 10.670 | tarde |\n",
       "| 5 | 19.425.576 | 659.932.179 | 3 | hombre | sí | no | grandes superficies | 14 | 590.3 | viernes | 12-may-66 | 48 | laborable     | 17.562 | directivo      | 3.900 | 20-abr-88 | 26 | 9.664  | tarde |\n",
       "| 6 | 19.800.499 | 657.097.488 | 4 | mujer  | sí | sí | super. barrio       | 20 | 623.8 | viernes | 19-oct-66 | 48 | laborable     | 17.405 | directivo      | 4.215 | 16-jul-88 | 26 | 9.578  | noche |\n",
       "\n"
      ],
      "text/plain": [
       "  DNI        tfno        ciudad sexo   hijos casapropia compra             \n",
       "1 11.979.539 682.049.331 2      hombre sí    sí         grandes superficies\n",
       "2 12.747.663 642.032.996 3      mujer  sí    no         grandes superficies\n",
       "3 13.025.242 635.777.048 3      mujer  sí    no         grandes superficies\n",
       "4 17.643.120 617.838.177 2      mujer  sí    sí         grandes superficies\n",
       "5 19.425.576 659.932.179 3      hombre sí    no         grandes superficies\n",
       "6 19.800.499 657.097.488 4      mujer  sí    sí         super. barrio      \n",
       "  horacompra gastomensual díacompra fecha_nac edad compra_A      edadendías\n",
       "1 17         474.6        sábado    23-may-74 40   fin de semana 14.671    \n",
       "2 17         451.8        viernes   26-dic-74 40   laborable     14.458    \n",
       "3 19         724.6        viernes   26-dic-67 47   laborable     16.978    \n",
       "4 18         674.2        sábado    30-sep-63 51   fin de semana 18.504    \n",
       "5 14         590.3        viernes   12-may-66 48   laborable     17.562    \n",
       "6 20         623.8        viernes   19-oct-66 48   laborable     17.405    \n",
       "  puesto         sueldo fecha_trab años_trab días   hora_cod\n",
       "1 directivo      2.818  13-sep-96  18        6.641  tarde   \n",
       "2 jefe           2.000  24-jul-96  18        6.690  tarde   \n",
       "3 jefe           2.482  03-jun-89  25        9.261  tarde   \n",
       "4 administrativo 1.425  04-jul-85  29        10.670 tarde   \n",
       "5 directivo      3.900  20-abr-88  26        9.664  tarde   \n",
       "6 directivo      4.215  16-jul-88  26        9.578  noche   "
      ]
     },
     "metadata": {},
     "output_type": "display_data"
    }
   ],
   "source": [
    "head(datos)"
   ]
  },
  {
   "cell_type": "markdown",
   "id": "8baee8fd-31ff-4e8a-89a5-3e4b79953500",
   "metadata": {},
   "source": [
    "Observando las variables con `head(datos)`, decido quedarme solo con las que pueden\r\n",
    "ser útiles para realizar el análisis.\r"
   ]
  },
  {
   "cell_type": "code",
   "execution_count": 44,
   "id": "995f2981-0b38-4e95-ad38-233bd77ac0ac",
   "metadata": {},
   "outputs": [],
   "source": [
    "datos <- dplyr::select(datos,\n",
    "                       c(\"ciudad\", \"sexo\", \"hijos\", \"casapropia\", \"compra\", \"horacompra\", \"gastomensual\", \"díacompra\", \"edad\", \"compra_A\", \"puesto\",\n",
    "                         \"sueldo\", \"años_trab\", \"hora_cod\"))"
   ]
  },
  {
   "cell_type": "code",
   "execution_count": 45,
   "id": "a9145a36-9f90-4419-9704-ab821af0ae60",
   "metadata": {},
   "outputs": [
    {
     "name": "stdout",
     "output_type": "stream",
     "text": [
      "Rows: 45\n",
      "Columns: 14\n",
      "$ ciudad       \u001b[3m\u001b[90m<int>\u001b[39m\u001b[23m 2, 3, 3, 2, 3, 4, 4, 6, 2, 1, 3, 7, 1, 8, 8, 8, 10, 10, 8…\n",
      "$ sexo         \u001b[3m\u001b[90m<chr>\u001b[39m\u001b[23m \"hombre\", \"mujer\", \"mujer\", \"mujer\", \"hombre\", \"mujer\", \"…\n",
      "$ hijos        \u001b[3m\u001b[90m<chr>\u001b[39m\u001b[23m \"sí\", \"sí\", \"sí\", \"sí\", \"sí\", \"sí\", \"no\", \"sí\", \"no\", \"sí…\n",
      "$ casapropia   \u001b[3m\u001b[90m<chr>\u001b[39m\u001b[23m \"sí\", \"no\", \"no\", \"sí\", \"no\", \"sí\", \"no\", \"no\", \"no\", \"no…\n",
      "$ compra       \u001b[3m\u001b[90m<chr>\u001b[39m\u001b[23m \"grandes superficies\", \"grandes superficies\", \"grandes su…\n",
      "$ horacompra   \u001b[3m\u001b[90m<int>\u001b[39m\u001b[23m 17, 17, 19, 18, 14, 20, 20, 17, 20, 19, 13, 20, 9, 10, 20…\n",
      "$ gastomensual \u001b[3m\u001b[90m<dbl>\u001b[39m\u001b[23m 474.6, 451.8, 724.6, 674.2, 590.3, 623.8, 542.1, 849.4, 9…\n",
      "$ díacompra    \u001b[3m\u001b[90m<chr>\u001b[39m\u001b[23m \"sábado\", \"viernes\", \"viernes\", \"sábado\", \"viernes\", \"vie…\n",
      "$ edad         \u001b[3m\u001b[90m<int>\u001b[39m\u001b[23m 40, 40, 47, 51, 48, 48, 48, 58, 44, 42, 53, 60, 73, 47, 4…\n",
      "$ compra_A     \u001b[3m\u001b[90m<chr>\u001b[39m\u001b[23m \"fin de semana\", \"laborable\", \"laborable\", \"fin de semana…\n",
      "$ puesto       \u001b[3m\u001b[90m<chr>\u001b[39m\u001b[23m \"directivo\", \"jefe\", \"jefe\", \"administrativo\", \"directivo…\n",
      "$ sueldo       \u001b[3m\u001b[90m<chr>\u001b[39m\u001b[23m \"2.818\", \"2.000\", \"2.482\", \"1.425\", \"3.900\", \"4.215\", \"1.…\n",
      "$ años_trab    \u001b[3m\u001b[90m<int>\u001b[39m\u001b[23m 18, 18, 25, 29, 26, 26, 26, 37, 21, 15, 30, 38, 44, 26, 2…\n",
      "$ hora_cod     \u001b[3m\u001b[90m<chr>\u001b[39m\u001b[23m \"tarde\", \"tarde\", \"tarde\", \"tarde\", \"tarde\", \"noche\", \"no…\n"
     ]
    }
   ],
   "source": [
    "dplyr::glimpse(datos)"
   ]
  },
  {
   "cell_type": "markdown",
   "id": "01037d6c-db7a-4f81-898d-61d09389be85",
   "metadata": {},
   "source": [
    "La variable sueldo sale como char, así que decido cambiar su tipo a integer y a su vez\n",
    "usando la función `gsub` eliminamos el punto para que quede bien. También\n",
    "separamos las variables restantes en dos grupos, cuantitativas y cualitativas, para así\n",
    "realizar el análisis correctamente."
   ]
  },
  {
   "cell_type": "code",
   "execution_count": 46,
   "id": "f887e75f-6ad4-446b-a077-3f8cb83a0d50",
   "metadata": {},
   "outputs": [],
   "source": [
    "datos$sueldo <- as.integer(gsub(\"\\\\.\",\"\", datos$sueldo))\n",
    "\n",
    "cuantitativas <- dplyr::select(datos, c(\"horacompra\", \"gastomensual\", \"edad\", \"sueldo\", \"años_trab\"))\n",
    "cualitativas <- dplyr::select(datos, c(\"ciudad\", \"sexo\", \"hijos\", \"casapropia\", \"compra\", \"díacompra\", \"compra_A\", \"puesto\", \"hora_cod\"))"
   ]
  },
  {
   "cell_type": "code",
   "execution_count": 47,
   "id": "93c543ad-9cc9-4ae1-b827-e45468701efd",
   "metadata": {},
   "outputs": [
    {
     "name": "stdout",
     "output_type": "stream",
     "text": [
      "'data.frame':\t45 obs. of  5 variables:\n",
      " $ horacompra  : int  17 17 19 18 14 20 20 17 20 19 ...\n",
      " $ gastomensual: num  475 452 725 674 590 ...\n",
      " $ edad        : int  40 40 47 51 48 48 48 58 44 42 ...\n",
      " $ sueldo      : int  2818 2000 2482 1425 3900 4215 1943 2451 2774 5690 ...\n",
      " $ años_trab   : int  18 18 25 29 26 26 26 37 21 15 ...\n",
      "'data.frame':\t45 obs. of  9 variables:\n",
      " $ ciudad    : int  2 3 3 2 3 4 4 6 2 1 ...\n",
      " $ sexo      : chr  \"hombre\" \"mujer\" \"mujer\" \"mujer\" ...\n",
      " $ hijos     : chr  \"sí\" \"sí\" \"sí\" \"sí\" ...\n",
      " $ casapropia: chr  \"sí\" \"no\" \"no\" \"sí\" ...\n",
      " $ compra    : chr  \"grandes superficies\" \"grandes superficies\" \"grandes superficies\" \"grandes superficies\" ...\n",
      " $ díacompra : chr  \"sábado\" \"viernes\" \"viernes\" \"sábado\" ...\n",
      " $ compra_A  : chr  \"fin de semana\" \"laborable\" \"laborable\" \"fin de semana\" ...\n",
      " $ puesto    : chr  \"directivo\" \"jefe\" \"jefe\" \"administrativo\" ...\n",
      " $ hora_cod  : chr  \"tarde\" \"tarde\" \"tarde\" \"tarde\" ...\n"
     ]
    }
   ],
   "source": [
    "str(cuantitativas)\n",
    "\n",
    "str(cualitativas)"
   ]
  },
  {
   "cell_type": "markdown",
   "id": "cf80da39-8d6b-42d1-8136-dbb09b59413a",
   "metadata": {},
   "source": [
    "Antes de comenzar con la representación, convertimos a las variables cualitativas a\r\n",
    "factor."
   ]
  },
  {
   "cell_type": "code",
   "execution_count": 48,
   "id": "4481a6ad-382d-4766-a12e-abd8d4c41338",
   "metadata": {},
   "outputs": [
    {
     "name": "stdout",
     "output_type": "stream",
     "text": [
      "'data.frame':\t45 obs. of  9 variables:\n",
      " $ ciudad    : Factor w/ 10 levels \"1\",\"2\",\"3\",\"4\",..: 2 3 3 2 3 4 4 6 2 1 ...\n",
      " $ sexo      : Factor w/ 2 levels \"hombre\",\"mujer\": 1 2 2 2 1 2 1 2 1 1 ...\n",
      " $ hijos     : Factor w/ 2 levels \"no\",\"sí\": 2 2 2 2 2 2 1 2 1 2 ...\n",
      " $ casapropia: Factor w/ 2 levels \"no\",\"sí\": 2 1 1 2 1 2 1 1 1 1 ...\n",
      " $ compra    : Factor w/ 3 levels \"grandes superficies\",..: 1 1 1 1 1 2 2 2 1 3 ...\n",
      " $ díacompra : Factor w/ 6 levels \"jueves\",\"lunes\",..: 5 6 6 5 6 6 1 5 5 6 ...\n",
      " $ compra_A  : Factor w/ 2 levels \"fin de semana\",..: 1 2 2 1 2 2 2 1 1 2 ...\n",
      " $ puesto    : Factor w/ 3 levels \"administrativo\",..: 2 3 3 1 2 2 1 1 3 2 ...\n",
      " $ hora_cod  : Factor w/ 3 levels \"mañana\",\"noche\",..: 3 3 3 3 3 2 2 3 2 3 ...\n"
     ]
    }
   ],
   "source": [
    "cualitativas <- cualitativas %>%\n",
    "  mutate_if(is.character, as.factor)\n",
    "cualitativas$ciudad <- as.factor(cualitativas$ciudad)\n",
    "str(cualitativas)"
   ]
  },
  {
   "cell_type": "markdown",
   "id": "d6e074ba-c3cc-4767-9722-7d34618df8db",
   "metadata": {},
   "source": [
    "## Representación de los datos"
   ]
  },
  {
   "cell_type": "markdown",
   "id": "28dc9ed0-22e2-488b-9540-416b60066bcf",
   "metadata": {},
   "source": [
    "Para las variables cuantitativas realizo una matriz de gráficos, donde arriba de la\r\n",
    "diagonal principal encontramos la correlación entre cada variable, debajo de la\r\n",
    "diagonal principal encontramos los diagramas de dispersión de las variables y en la\r\n",
    "diagonal principal los histogramas de cada variable. Para ello utilizo la función ggpairs\r\n",
    "de la librería ggally."
   ]
  },
  {
   "cell_type": "code",
   "execution_count": 23,
   "id": "a12cb043-9626-4f3f-908b-0eb0b692a9b0",
   "metadata": {},
   "outputs": [
    {
     "data": {
      "image/png": "[encoded data removed]",
      "text/plain": [
       "plot without title"
      ]
     },
     "metadata": {
      "image/png": {
       "height": 420,
       "width": 420
      }
     },
     "output_type": "display_data"
    }
   ],
   "source": [
    "ggpairs(cuantitativas,\n",
    "        upper = list(continuous = \"cor\", combo = \"box_no_facet\"),\n",
    "        lower = list(continuous = wrap(ggally_points, color = \"darkblue\")),\n",
    "        diag = list(continuous = wrap(\"barDiag\", bins = 15, fill ='lightblue', color='darkblue')))"
   ]
  },
  {
   "cell_type": "markdown",
   "id": "8940ff44-8fdb-4d10-87cd-69ca4a452384",
   "metadata": {},
   "source": [
    "Para la variable cualitativa ciudad, utilizo un gráfico de barras donde observamos la\r\n",
    "frecuencia relativa de cada valor.\r"
   ]
  },
  {
   "cell_type": "code",
   "execution_count": 24,
   "id": "19674018-1251-4e5a-a658-c07e52366782",
   "metadata": {},
   "outputs": [
    {
     "data": {
      "image/png": "[encoded data removed]",
      "text/plain": [
       "Plot with title \"Gráfico de barras para Ciudad\""
      ]
     },
     "metadata": {
      "image/png": {
       "height": 420,
       "width": 420
      }
     },
     "output_type": "display_data"
    }
   ],
   "source": [
    "#ciudad\n",
    "frec_rel1 <- round(prop.table(table(cualitativas$ciudad)), 2)\n",
    "frec_abs1 <- table(cualitativas$ciudad)\n",
    "bar1 <- barplot(frec_rel1, border = FALSE,\n",
    "                las = 1,\n",
    "                col = \"cadetblue2\",\n",
    "                ylim = c(0, 0.25),\n",
    "                main = \"Gráfico de barras para Ciudad\")\n",
    "text(bar1, frec_rel1+0.01, paste0(frec_rel1*100, '%'), col = \"black\")\n",
    "text(bar1, frec_rel1 - 0.01, paste0('(n=', frec_abs1, ')'), col = \"black\")"
   ]
  },
  {
   "cell_type": "markdown",
   "id": "20bb587e-0c38-4e95-9f24-f759dbff9055",
   "metadata": {},
   "source": [
    "Para la variable sexo volvemos a realizar un gráfico de barras."
   ]
  },
  {
   "cell_type": "code",
   "execution_count": 25,
   "id": "68318532-fb81-45cd-ab41-45dd0433335e",
   "metadata": {},
   "outputs": [
    {
     "data": {
      "image/png": "[encoded data removed]",
      "text/plain": [
       "Plot with title \"Gráfico de barras para Sexo\""
      ]
     },
     "metadata": {
      "image/png": {
       "height": 420,
       "width": 420
      }
     },
     "output_type": "display_data"
    }
   ],
   "source": [
    "#sexo\n",
    "frec_rel2 <- round(prop.table(table(cualitativas$sexo)), 2)\n",
    "frec_abs2 <- table(cualitativas$sexo)\n",
    "\n",
    "bar1 <- barplot(frec_rel2, border = FALSE,\n",
    "                las = 1,\n",
    "                col = c(\"lightblue\", \"lightpink\"),\n",
    "                ylim = c(0, 0.7),\n",
    "                main = \"Gráfico de barras para Sexo\")\n",
    "text(bar1, frec_rel2+0.03, paste0(frec_rel2*100, '%'), col = \"black\")\n",
    "text(bar1, frec_rel2 - 0.04, paste0('(n=', frec_abs2, ')'), col = \"black\")\n"
   ]
  },
  {
   "cell_type": "markdown",
   "id": "12a3ba8e-e86d-4097-a15d-5a772fdee66c",
   "metadata": {},
   "source": [
    "Para el caso de la variable casapropia, lo que realizo es un gráfico bivariante donde\r\n",
    "comparo primero que porcentaje de gente que tiene hijos tiene casa propia y que\r\n",
    "porcentaje que no tiene hijos tiene casa propia o no. Después también, que\r\n",
    "porcentaje tiene casa propia dependiendo el puesto de trabajo que ocupa."
   ]
  },
  {
   "cell_type": "code",
   "execution_count": 26,
   "id": "bcd3f088-efe1-4b0f-8328-709ed6947ea2",
   "metadata": {},
   "outputs": [
    {
     "data": {
      "image/png": "[encoded data removed]",
      "text/plain": [
       "plot without title"
      ]
     },
     "metadata": {
      "image/png": {
       "height": 420,
       "width": 420
      }
     },
     "output_type": "display_data"
    }
   ],
   "source": [
    "#casapropia - hijos, puesto\n",
    "ggbivariate(cualitativas,\n",
    "            outcome = \"casapropia\",\n",
    "            explanatory = c(\"hijos\", \"puesto\"),\n",
    "            rowbar_args = list(\n",
    "              colour = \"black\",\n",
    "              size = 3,\n",
    "              fontface = \"bold\"))"
   ]
  },
  {
   "cell_type": "markdown",
   "id": "f0a6b3df-51dc-4e1d-86dd-e3c2962811a5",
   "metadata": {},
   "source": [
    "Realizo el mismo grafico para comparar a que horas prefiere realizar la compra según\r\n",
    "el puesto de trabajo."
   ]
  },
  {
   "cell_type": "code",
   "execution_count": 27,
   "id": "e6b35c92-8f71-4494-9c2a-b6d2c47e8e5f",
   "metadata": {},
   "outputs": [
    {
     "data": {
      "image/png": "[encoded data removed]",
      "text/plain": [
       "plot without title"
      ]
     },
     "metadata": {
      "image/png": {
       "height": 420,
       "width": 420
      }
     },
     "output_type": "display_data"
    }
   ],
   "source": [
    "#hora_cod - puesto\n",
    "ggbivariate(cualitativas,\n",
    "            outcome = \"hora_cod\",\n",
    "            explanatory = c(\"puesto\"),\n",
    "            rowbar_args = list(\n",
    "              colour = \"black\",\n",
    "              size = 3,\n",
    "              fontface = \"bold\"))"
   ]
  },
  {
   "cell_type": "markdown",
   "id": "e5fe4a1a-46c8-43e0-afab-edbc8c81da83",
   "metadata": {},
   "source": [
    "## Búsqueda de datos ausentes"
   ]
  },
  {
   "cell_type": "markdown",
   "id": "2167c817-c947-4af1-9dda-de9c1205ab7e",
   "metadata": {},
   "source": [
    "Para la búsqueda de datos ausentes utilizo la función is.na() para identificar los\r\n",
    "valores ausentes y luego sumarlos para cada columna."
   ]
  },
  {
   "cell_type": "code",
   "execution_count": 28,
   "id": "43d5305c-eab2-4c15-ace5-c7912d9cdcd9",
   "metadata": {},
   "outputs": [
    {
     "data": {
      "text/html": [
       "<style>\n",
       ".dl-inline {width: auto; margin:0; padding: 0}\n",
       ".dl-inline>dt, .dl-inline>dd {float: none; width: auto; display: inline-block}\n",
       ".dl-inline>dt::after {content: \":\\0020\"; padding-right: .5ex}\n",
       ".dl-inline>dt:not(:first-of-type) {padding-left: .5ex}\n",
       "</style><dl class=dl-inline><dt>ciudad</dt><dd>0</dd><dt>sexo</dt><dd>0</dd><dt>hijos</dt><dd>0</dd><dt>casapropia</dt><dd>0</dd><dt>compra</dt><dd>0</dd><dt>horacompra</dt><dd>0</dd><dt>gastomensual</dt><dd>0</dd><dt>díacompra</dt><dd>0</dd><dt>edad</dt><dd>0</dd><dt>compra_A</dt><dd>0</dd><dt>puesto</dt><dd>0</dd><dt>sueldo</dt><dd>0</dd><dt>años_trab</dt><dd>0</dd><dt>hora_cod</dt><dd>0</dd></dl>\n"
      ],
      "text/latex": [
       "\\begin{description*}\n",
       "\\item[ciudad] 0\n",
       "\\item[sexo] 0\n",
       "\\item[hijos] 0\n",
       "\\item[casapropia] 0\n",
       "\\item[compra] 0\n",
       "\\item[horacompra] 0\n",
       "\\item[gastomensual] 0\n",
       "\\item[díacompra] 0\n",
       "\\item[edad] 0\n",
       "\\item[compra\\textbackslash{}\\_A] 0\n",
       "\\item[puesto] 0\n",
       "\\item[sueldo] 0\n",
       "\\item[años\\textbackslash{}\\_trab] 0\n",
       "\\item[hora\\textbackslash{}\\_cod] 0\n",
       "\\end{description*}\n"
      ],
      "text/markdown": [
       "ciudad\n",
       ":   0sexo\n",
       ":   0hijos\n",
       ":   0casapropia\n",
       ":   0compra\n",
       ":   0horacompra\n",
       ":   0gastomensual\n",
       ":   0díacompra\n",
       ":   0edad\n",
       ":   0compra_A\n",
       ":   0puesto\n",
       ":   0sueldo\n",
       ":   0años_trab\n",
       ":   0hora_cod\n",
       ":   0\n",
       "\n"
      ],
      "text/plain": [
       "      ciudad         sexo        hijos   casapropia       compra   horacompra \n",
       "           0            0            0            0            0            0 \n",
       "gastomensual    díacompra         edad     compra_A       puesto       sueldo \n",
       "           0            0            0            0            0            0 \n",
       "   años_trab     hora_cod \n",
       "           0            0 "
      ]
     },
     "metadata": {},
     "output_type": "display_data"
    }
   ],
   "source": [
    "sapply(datos, function(x) sum(is.na(x)))"
   ]
  },
  {
   "cell_type": "markdown",
   "id": "1fe6c84a-dee2-4c87-9089-110ff2a407ed",
   "metadata": {},
   "source": [
    "Como podemos observar, no hay ningún valor ausente para todas las columnas, por\r\n",
    "tanto, no tenemos que hacer nada más en este caso."
   ]
  },
  {
   "cell_type": "markdown",
   "id": "23baafbc-7546-41e9-a300-bb89eebae9e4",
   "metadata": {},
   "source": [
    "## Búsqueda de valores atípicos"
   ]
  },
  {
   "cell_type": "markdown",
   "id": "2edc25fb-6e1c-43a7-868d-44b969875192",
   "metadata": {},
   "source": [
    "Para la búsqueda de casos atípicos realizo un diagrama de caja y bigotes para cada\r\n",
    "variable cuantitativa y observo los valores atípicos que muestra el gráfico.\r\n",
    "Comenzamos primero con la variable horacompra:"
   ]
  },
  {
   "cell_type": "code",
   "execution_count": 29,
   "id": "d351a726-b64a-4e07-a3fc-b4700e4160de",
   "metadata": {},
   "outputs": [
    {
     "data": {
      "image/png": "[encoded data removed]",
      "text/plain": [
       "Plot with title \"Boxplot variable horacompra\""
      ]
     },
     "metadata": {
      "image/png": {
       "height": 420,
       "width": 420
      }
     },
     "output_type": "display_data"
    }
   ],
   "source": [
    "#boxplot horacompra\n",
    "boxplot(cuantitativas$horacompra,\n",
    "        col = \"cadetblue2\",\n",
    "        horizontal = T,\n",
    "        outpch = 21, outcol = \"black\", outbg = \"lightblue\",\n",
    "        cex_axis = 0.8)\n",
    "title(\"Boxplot variable horacompra\")"
   ]
  },
  {
   "cell_type": "markdown",
   "id": "a79819be-4ef6-4bae-b14a-f41906bd8ba0",
   "metadata": {},
   "source": [
    "Podemos observar que el gráfico muestra dos valores atípicos, valor 10 y valor 9.\n",
    "\r\n",
    "Para el caso de la variable gastomensual, como podemos observar en el gráfico de\r\n",
    "debajo, no hay ningún valor atípico."
   ]
  },
  {
   "cell_type": "code",
   "execution_count": 30,
   "id": "86437133-f7f5-4bfe-b175-58e22e3eb9a2",
   "metadata": {},
   "outputs": [
    {
     "data": {
      "image/png": "[encoded data removed]",
      "text/plain": [
       "Plot with title \"Boxplot variable gastomensual\""
      ]
     },
     "metadata": {
      "image/png": {
       "height": 420,
       "width": 420
      }
     },
     "output_type": "display_data"
    }
   ],
   "source": [
    "#boxplot gastomensual\n",
    "boxplot(cuantitativas$gastomensual,\n",
    "        col = \"cadetblue2\",\n",
    "        horizontal = T,\n",
    "        outpch = 21, outcol = \"black\", outbg = \"lightblue\",\n",
    "        col_axis = \"black\",\n",
    "        cex_axis = 0.8)\n",
    "title(\"Boxplot variable gastomensual\")"
   ]
  },
  {
   "cell_type": "markdown",
   "id": "f48bb754-68ab-4e00-b8fb-0227bb6e4fcd",
   "metadata": {},
   "source": [
    "Para la variable edad, volvemos a no ver ningún valor atípico con el diagrama de caja."
   ]
  },
  {
   "cell_type": "code",
   "execution_count": 31,
   "id": "4c5e8fec-7411-4e39-831a-8a0232ea81ad",
   "metadata": {},
   "outputs": [
    {
     "data": {
      "image/png": "[encoded data removed]",
      "text/plain": [
       "Plot with title \"Boxplot variable edad\""
      ]
     },
     "metadata": {
      "image/png": {
       "height": 420,
       "width": 420
      }
     },
     "output_type": "display_data"
    }
   ],
   "source": [
    "#boxplot edad\n",
    "boxplot(cuantitativas$edad,\n",
    "        col = \"cadetblue2\",\n",
    "        horizontal = T,\n",
    "        outpch = 21, outcol = \"black\", outbg = \"lightblue\",\n",
    "        cex_axis = 0.8)\n",
    "title(\"Boxplot variable edad\")"
   ]
  },
  {
   "cell_type": "markdown",
   "id": "f2ce064b-2fa9-4fc8-aa65-9e4791064ece",
   "metadata": {},
   "source": [
    "En el caso de la variable sueldo, podemos observar que, si existe un valor atípico\r\n",
    "pasado los 5000, en un valor aproximado de 5600."
   ]
  },
  {
   "cell_type": "code",
   "execution_count": 32,
   "id": "69e31edc-5e91-4c3d-92b8-4ee31d56ac56",
   "metadata": {},
   "outputs": [
    {
     "data": {
      "image/png": "[encoded data removed]",
      "text/plain": [
       "Plot with title \"Boxplot variable sueldo\""
      ]
     },
     "metadata": {
      "image/png": {
       "height": 420,
       "width": 420
      }
     },
     "output_type": "display_data"
    }
   ],
   "source": [
    "#boxplot sueldo\n",
    "boxplot(cuantitativas$sueldo,\n",
    "        col = \"cadetblue2\",\n",
    "        horizontal = T,\n",
    "        outpch = 21, outcol = \"black\", outbg = \"lightblue\",\n",
    "        cex_axis = 0.8)\n",
    "title(\"Boxplot variable sueldo\")"
   ]
  },
  {
   "cell_type": "markdown",
   "id": "90061f47-1e03-4d85-80af-af07167d95b1",
   "metadata": {},
   "source": [
    "Finalmente, para la variable años_trab no observamos ningún valor atípico.\r"
   ]
  },
  {
   "cell_type": "code",
   "execution_count": 33,
   "id": "49190620-69ef-43e2-a597-53e0f5ce0f02",
   "metadata": {},
   "outputs": [
    {
     "data": {
      "image/png": "[encoded data removed]",
      "text/plain": [
       "Plot with title \"Boxplot variable años_trab\""
      ]
     },
     "metadata": {
      "image/png": {
       "height": 420,
       "width": 420
      }
     },
     "output_type": "display_data"
    }
   ],
   "source": [
    "#boxplot años_trab\n",
    "boxplot(cuantitativas$años_trab,\n",
    "        col = \"cadetblue2\",\n",
    "        horizontal = T)\n",
    "title(\"Boxplot variable años_trab\")"
   ]
  },
  {
   "cell_type": "markdown",
   "id": "7d7d91e2-c07a-4486-ab30-789b21c8d6a7",
   "metadata": {},
   "source": [
    "## Verificación de algunos supuestos básicos"
   ]
  },
  {
   "cell_type": "markdown",
   "id": "efba6114-a66f-444f-86c5-bf87749f38a3",
   "metadata": {},
   "source": [
    "Para comprobar la normalidad de las variables, he utilizado el test de Shapiro-Wilks,\r\n",
    "que plantea la hipótesis nula que los datos provienen de una distribución normal.\r\n",
    "Fijado un nivel de significancia = 0,05, la hipótesis nula H0: La distribución es normal;\r\n",
    "la hipótesis H1: la distribución no es normal.\r\n",
    "Realizo esta comprobación por cada variable cuantitativa."
   ]
  },
  {
   "cell_type": "markdown",
   "id": "406616d8-6a80-494b-afbd-5cc0b672a836",
   "metadata": {},
   "source": [
    "Variable horacompra:"
   ]
  },
  {
   "cell_type": "code",
   "execution_count": 34,
   "id": "1507ce02-02f3-40de-913d-8ea46ccc5528",
   "metadata": {},
   "outputs": [
    {
     "data": {
      "text/plain": [
       "\n",
       "\tShapiro-Wilk normality test\n",
       "\n",
       "data:  cuantitativas$horacompra\n",
       "W = 0.74841, p-value = 2.079e-07\n"
      ]
     },
     "metadata": {},
     "output_type": "display_data"
    }
   ],
   "source": [
    "#shapiro test horacompra\n",
    "shapiro.test(cuantitativas$horacompra)"
   ]
  },
  {
   "cell_type": "markdown",
   "id": "5f49d217-7b82-4481-9c87-6098d630277d",
   "metadata": {},
   "source": [
    "Como nos muestra un valor p muy pequeño, tenemos evidencia suficiente para\n",
    "rechazar la hipótesis nula y, por tanto, los datos de la variable horacompra no se\n",
    "distribuyen de forma normal.\n",
    "\n",
    "\n",
    "Para el caso de la variable gastomensual, observamos que el valor p es ligeramente\n",
    "inferior al valor de significancia, por tanto, los datos de la variable gastomensual\n",
    "podrían no seguir una distribución normal, aunque es menos evidente que en el caso\n",
    "anterior."
   ]
  },
  {
   "cell_type": "code",
   "execution_count": 35,
   "id": "13bb4f79-9489-400c-9722-f8defb92cc03",
   "metadata": {},
   "outputs": [
    {
     "data": {
      "text/plain": [
       "\n",
       "\tShapiro-Wilk normality test\n",
       "\n",
       "data:  cuantitativas$gastomensual\n",
       "W = 0.94601, p-value = 0.03595\n"
      ]
     },
     "metadata": {},
     "output_type": "display_data"
    }
   ],
   "source": [
    "#shapiro test gastomensual\n",
    "shapiro.test(cuantitativas$gastomensual)"
   ]
  },
  {
   "cell_type": "markdown",
   "id": "307d247a-cdb9-491f-a096-26118b87de5c",
   "metadata": {},
   "source": [
    "Para el caso de la variable edad, tenemos un valor p superior al valor de significancia,\r\n",
    "esto significa que no hay evidencia suficiente para rechazar la hipótesis nula y por\r\n",
    "tanto, los datos de la variable edad podrían seguir una distribución normal."
   ]
  },
  {
   "cell_type": "code",
   "execution_count": 36,
   "id": "89987b17-2964-4dad-85e3-d12efb3b81d8",
   "metadata": {},
   "outputs": [
    {
     "data": {
      "text/plain": [
       "\n",
       "\tShapiro-Wilk normality test\n",
       "\n",
       "data:  cuantitativas$edad\n",
       "W = 0.95537, p-value = 0.08132\n"
      ]
     },
     "metadata": {},
     "output_type": "display_data"
    }
   ],
   "source": [
    "#shapiro test edad\n",
    "shapiro.test(cuantitativas$edad)"
   ]
  },
  {
   "cell_type": "markdown",
   "id": "8bd2475d-3cf3-494d-a918-4235a216b0a8",
   "metadata": {},
   "source": [
    "Para la variable sueldo, observamos que tenemos un valor p muy pequeño, por tanto,\r\n",
    "hay evidencia suficiente para rechazar la hipótesis nula y podemos decir que los datos\r\n",
    "de la variable sueldo no se distribuyen normalmente."
   ]
  },
  {
   "cell_type": "code",
   "execution_count": 37,
   "id": "2ba6c989-4246-4d46-a2ad-90bec6e7ac24",
   "metadata": {},
   "outputs": [
    {
     "data": {
      "text/plain": [
       "\n",
       "\tShapiro-Wilk normality test\n",
       "\n",
       "data:  cuantitativas$sueldo\n",
       "W = 0.86152, p-value = 7.348e-05\n"
      ]
     },
     "metadata": {},
     "output_type": "display_data"
    }
   ],
   "source": [
    "#shapiro test sueldo\n",
    "shapiro.test(cuantitativas$sueldo)"
   ]
  },
  {
   "cell_type": "markdown",
   "id": "d5d90849-39cf-4891-a1bd-09769377018c",
   "metadata": {},
   "source": [
    "Finalmente, para la variable años_trab, observamos que el valor p es un valor mayor\r\n",
    "al nivel de significancia. Esto nos indica que no hay evidencia para rechazar la\r\n",
    "hipótesis nula, por tanto, los valores de la variable años_trab podrían distribuirse de\r\n",
    "forma normal."
   ]
  },
  {
   "cell_type": "code",
   "execution_count": 38,
   "id": "aebd3d34-3fba-49b5-a855-017706b49bcf",
   "metadata": {},
   "outputs": [
    {
     "data": {
      "text/plain": [
       "\n",
       "\tShapiro-Wilk normality test\n",
       "\n",
       "data:  cuantitativas$años_trab\n",
       "W = 0.96518, p-value = 0.1921\n"
      ]
     },
     "metadata": {},
     "output_type": "display_data"
    }
   ],
   "source": [
    "#shapiro test años_trab\n",
    "shapiro.test(cuantitativas$años_trab)"
   ]
  }
 ],
 "metadata": {
  "kernelspec": {
   "display_name": "R",
   "language": "R",
   "name": "ir"
  },
  "language_info": {
   "codemirror_mode": "r",
   "file_extension": ".r",
   "mimetype": "text/x-r-source",
   "name": "R",
   "pygments_lexer": "r",
   "version": "4.3.3"
  }
 },
 "nbformat": 4,
 "nbformat_minor": 5
}
