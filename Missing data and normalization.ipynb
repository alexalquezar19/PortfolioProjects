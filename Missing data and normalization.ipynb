{
 "cells": [
  {
   "cell_type": "markdown",
   "id": "50702a11-d06e-4749-b673-40bce8c4b153",
   "metadata": {},
   "source": [
    "Alejandro Alquezar Pitarch - University Project"
   ]
  },
  {
   "cell_type": "markdown",
   "id": "9a362271-678e-462f-8afe-a6a7ceaa222b",
   "metadata": {},
   "source": [
    "## Missing Data and Normalization"
   ]
  },
  {
   "cell_type": "markdown",
   "id": "67ef62f4-a58e-4a0b-ab02-f12dc27cf23e",
   "metadata": {},
   "source": [
    "First of all, I load the data and create a plot to have a visual representation of the missing data for each variable."
   ]
  },
  {
   "cell_type": "code",
   "execution_count": 2,
   "id": "e34051a9-c1a6-4142-acca-c0cea9332bb7",
   "metadata": {},
   "outputs": [],
   "source": [
    "import pandas as pd\n",
    "import seaborn as sns\n",
    "import matplotlib.pyplot as plt\n",
    "from sklearn.pipeline import Pipeline\n",
    "from sklearn.experimental import enable_iterative_imputer\n",
    "from sklearn.impute import KNNImputer,SimpleImputer, IterativeImputer\n",
    "from sklearn.metrics import r2_score\n",
    "from sklearn.tree import DecisionTreeRegressor\n",
    "from sklearn.linear_model import LinearRegression\n",
    "from sklearn.preprocessing import StandardScaler"
   ]
  },
  {
   "cell_type": "code",
   "execution_count": 4,
   "id": "b0c5b11a-67df-4f2d-8e3b-dc3215cd88cc",
   "metadata": {},
   "outputs": [],
   "source": [
    "surveys = pd.read_csv(\"surveys.csv\")"
   ]
  },
  {
   "cell_type": "code",
   "execution_count": 5,
   "id": "1a4b46ab-313a-4f98-b045-13e3f7166dd1",
   "metadata": {},
   "outputs": [
    {
     "data": {
      "text/html": [
       "<div>\n",
       "<style scoped>\n",
       "    .dataframe tbody tr th:only-of-type {\n",
       "        vertical-align: middle;\n",
       "    }\n",
       "\n",
       "    .dataframe tbody tr th {\n",
       "        vertical-align: top;\n",
       "    }\n",
       "\n",
       "    .dataframe thead th {\n",
       "        text-align: right;\n",
       "    }\n",
       "</style>\n",
       "<table border=\"1\" class=\"dataframe\">\n",
       "  <thead>\n",
       "    <tr style=\"text-align: right;\">\n",
       "      <th></th>\n",
       "      <th>record_id</th>\n",
       "      <th>month</th>\n",
       "      <th>day</th>\n",
       "      <th>year</th>\n",
       "      <th>plot_id</th>\n",
       "      <th>species_id</th>\n",
       "      <th>sex</th>\n",
       "      <th>hindfoot_length</th>\n",
       "      <th>weight</th>\n",
       "    </tr>\n",
       "  </thead>\n",
       "  <tbody>\n",
       "    <tr>\n",
       "      <th>0</th>\n",
       "      <td>1</td>\n",
       "      <td>7</td>\n",
       "      <td>16</td>\n",
       "      <td>1977</td>\n",
       "      <td>2</td>\n",
       "      <td>NL</td>\n",
       "      <td>M</td>\n",
       "      <td>32.0</td>\n",
       "      <td>NaN</td>\n",
       "    </tr>\n",
       "    <tr>\n",
       "      <th>1</th>\n",
       "      <td>2</td>\n",
       "      <td>7</td>\n",
       "      <td>16</td>\n",
       "      <td>1977</td>\n",
       "      <td>3</td>\n",
       "      <td>NL</td>\n",
       "      <td>M</td>\n",
       "      <td>33.0</td>\n",
       "      <td>NaN</td>\n",
       "    </tr>\n",
       "    <tr>\n",
       "      <th>2</th>\n",
       "      <td>3</td>\n",
       "      <td>7</td>\n",
       "      <td>16</td>\n",
       "      <td>1977</td>\n",
       "      <td>2</td>\n",
       "      <td>DM</td>\n",
       "      <td>F</td>\n",
       "      <td>37.0</td>\n",
       "      <td>NaN</td>\n",
       "    </tr>\n",
       "    <tr>\n",
       "      <th>3</th>\n",
       "      <td>4</td>\n",
       "      <td>7</td>\n",
       "      <td>16</td>\n",
       "      <td>1977</td>\n",
       "      <td>7</td>\n",
       "      <td>DM</td>\n",
       "      <td>M</td>\n",
       "      <td>36.0</td>\n",
       "      <td>NaN</td>\n",
       "    </tr>\n",
       "    <tr>\n",
       "      <th>4</th>\n",
       "      <td>5</td>\n",
       "      <td>7</td>\n",
       "      <td>16</td>\n",
       "      <td>1977</td>\n",
       "      <td>3</td>\n",
       "      <td>DM</td>\n",
       "      <td>M</td>\n",
       "      <td>35.0</td>\n",
       "      <td>NaN</td>\n",
       "    </tr>\n",
       "  </tbody>\n",
       "</table>\n",
       "</div>"
      ],
      "text/plain": [
       "   record_id  month  day  year  plot_id species_id sex  hindfoot_length  \\\n",
       "0          1      7   16  1977        2         NL   M             32.0   \n",
       "1          2      7   16  1977        3         NL   M             33.0   \n",
       "2          3      7   16  1977        2         DM   F             37.0   \n",
       "3          4      7   16  1977        7         DM   M             36.0   \n",
       "4          5      7   16  1977        3         DM   M             35.0   \n",
       "\n",
       "   weight  \n",
       "0     NaN  \n",
       "1     NaN  \n",
       "2     NaN  \n",
       "3     NaN  \n",
       "4     NaN  "
      ]
     },
     "execution_count": 5,
     "metadata": {},
     "output_type": "execute_result"
    }
   ],
   "source": [
    "surveys.head()"
   ]
  },
  {
   "cell_type": "code",
   "execution_count": 9,
   "id": "20610b6f-8186-4577-81db-0eec204751f3",
   "metadata": {},
   "outputs": [
    {
     "data": {
      "image/png": "[encoded data removed]",
      "text/plain": [
       "<Figure size 640x480 with 1 Axes>"
      ]
     },
     "metadata": {},
     "output_type": "display_data"
    }
   ],
   "source": [
    "missing_data_count = surveys.isnull().sum()\n",
    "missing_data_ratio = (missing_data_count / len(surveys)) * 100\n",
    "\n",
    "missing_data_summary = pd.DataFrame({'variable': missing_data_count.index,\n",
    "                                     'missing_data': missing_data_count.values,\n",
    "                                     'missing_data_ratio': missing_data_ratio.values})\n",
    "\n",
    "sns.barplot(x=\"missing_data_ratio\", y = \"variable\", data = missing_data_summary)\n",
    "plt.title(\"Proportion of missing data per variable\")\n",
    "plt.xlabel(\"Proportion of missing data\")\n",
    "plt.ylabel(\"Variable\")\n",
    "plt.show()"
   ]
  },
  {
   "cell_type": "markdown",
   "id": "68ad0213-ef16-4715-ad28-0d26e32f9551",
   "metadata": {},
   "source": [
    "We take the variable 'weight' as the dependent variable and the explanatory variables 'month', 'year', 'plot_id', 'sex', and 'hindfoot_length'. Since 'sex' is not a numerical variable, which may cause problems, we replace the values of 'M' (male) with the value 0 and the values of 'F' (female) with the value 1."
   ]
  },
  {
   "cell_type": "code",
   "execution_count": 10,
   "id": "f3d80624-bf68-4b83-b3ea-14784a2c47f1",
   "metadata": {},
   "outputs": [
    {
     "name": "stdout",
     "output_type": "stream",
     "text": [
      "Are there null values in the 'weight' variable?\n",
      "False\n",
      "\n",
      "Number of observations in the X dataset (explanatory variables): 32283\n",
      "Number of observations in the y dataset (dependent variable): 32283\n"
     ]
    }
   ],
   "source": [
    "surveys['sex'] = surveys['sex'].replace({'M': 0, 'F': 1})\n",
    "\n",
    "data_clean = surveys.dropna(subset=['weight'])\n",
    "\n",
    "explanatory_variables = ['month', 'year', 'plot_id', 'sex', 'hindfoot_length']\n",
    "y = data_clean['weight']\n",
    "X = data_clean[explanatory_variables]\n",
    "\n",
    "print(\"Are there null values in the 'weight' variable?\")\n",
    "print(data_clean['weight'].isnull().any())\n",
    "\n",
    "# Display the number of observations in the X and y datasets.\n",
    "print(\"\\nNumber of observations in the X dataset (explanatory variables):\", X.shape[0])\n",
    "print(\"Number of observations in the y dataset (dependent variable):\", y.shape[0])"
   ]
  },
  {
   "cell_type": "markdown",
   "id": "25b2eab0-4ae5-4f5d-80fd-619356ae045d",
   "metadata": {},
   "source": [
    "### Imputation Mechanism"
   ]
  },
  {
   "cell_type": "markdown",
   "id": "a3d95a27-68b2-4b65-be55-95ba661f8b85",
   "metadata": {},
   "source": [
    "We start by first using simple imputation using the mean."
   ]
  },
  {
   "cell_type": "code",
   "execution_count": 11,
   "id": "ca9586d9-9879-45d3-a523-f8b4badc832c",
   "metadata": {},
   "outputs": [
    {
     "name": "stdout",
     "output_type": "stream",
     "text": [
      "Coefficient of determination (R^2): 0.4334811293712356\n"
     ]
    }
   ],
   "source": [
    "#Simple imputation using the mean\n",
    "imputer = SimpleImputer(strategy='mean')\n",
    "X_imputed = imputer.fit_transform(X)\n",
    "\n",
    "#Fit the linear regression model\n",
    "model = LinearRegression()\n",
    "model.fit(X_imputed, y)\n",
    "\n",
    "# Predict the values of y using the fitted model\n",
    "y_pred = model.predict(X_imputed)\n",
    "\n",
    "# Calculate the coefficient of determination (R^2)\n",
    "score_imp_simple_media = r2_score(y, y_pred)\n",
    "print(\"Coefficient of determination (R^2):\", score_imp_simple_media)"
   ]
  },
  {
   "cell_type": "markdown",
   "id": "1e84f5ec-5ed7-400e-b679-f82e120bc6a2",
   "metadata": {},
   "source": [
    "Now, we perform simple imputation using the median."
   ]
  },
  {
   "cell_type": "code",
   "execution_count": 12,
   "id": "73cda062-9c7a-4b90-b6f9-c8e264d74d5f",
   "metadata": {},
   "outputs": [
    {
     "name": "stdout",
     "output_type": "stream",
     "text": [
      "Coefficient of determination (R^2): 0.4372417276222883\n"
     ]
    }
   ],
   "source": [
    "imputer = SimpleImputer(strategy='median')\n",
    "X_imputed = imputer.fit_transform(X)\n",
    "\n",
    "# Fit the linear regression model\n",
    "model = LinearRegression()\n",
    "model.fit(X_imputed, y)\n",
    "\n",
    "# Predict the values of y using the fitted model\n",
    "y_pred = model.predict(X_imputed)\n",
    "\n",
    "# Calculate the coefficient of determination (R^2)\n",
    "score_imp_simple_mediana = r2_score(y, y_pred)\n",
    "print(\"Coefficient of determination (R^2):\", score_imp_simple_mediana)"
   ]
  },
  {
   "cell_type": "markdown",
   "id": "b68691c3-27ca-4f56-9f13-96db1ec03c75",
   "metadata": {},
   "source": [
    "Next, we perform multiple imputation using chained equations (MICE)."
   ]
  },
  {
   "cell_type": "code",
   "execution_count": 14,
   "id": "9f8e1541-fc3a-44e9-9791-4c768a48f40e",
   "metadata": {},
   "outputs": [
    {
     "name": "stdout",
     "output_type": "stream",
     "text": [
      "Coefficient of determination (R^2): 0.43919327531655894\n"
     ]
    }
   ],
   "source": [
    "imputer = IterativeImputer()\n",
    "X_imputed = imputer.fit_transform(X)\n",
    "\n",
    "# Fit the linear regression model\n",
    "model = LinearRegression()\n",
    "model.fit(X_imputed, y)\n",
    "\n",
    "# Predict the values of y using the fitted model\n",
    "y_pred = model.predict(X_imputed)\n",
    "\n",
    "# Calculate the coefficient of determination (R^2)\n",
    "score_imp_multiple_simple = r2_score(y, y_pred)\n",
    "print(\"Coefficient of determination (R^2):\", score_imp_multiple_simple)"
   ]
  },
  {
   "cell_type": "markdown",
   "id": "5b9ae085-d2d3-46be-9835-8e688e223247",
   "metadata": {},
   "source": [
    "I continue by using multiple imputation, this time using trees."
   ]
  },
  {
   "cell_type": "code",
   "execution_count": 15,
   "id": "aca28eb8-12b2-4c41-8c8b-e7d757514688",
   "metadata": {},
   "outputs": [
    {
     "name": "stdout",
     "output_type": "stream",
     "text": [
      "Coefficient of determination (R^2): 0.4407960355852155\n"
     ]
    },
    {
     "name": "stderr",
     "output_type": "stream",
     "text": [
      "C:\\Users\\Alejandro\\anaconda3\\Lib\\site-packages\\sklearn\\impute\\_iterative.py:785: ConvergenceWarning: [IterativeImputer] Early stopping criterion not reached.\n",
      "  warnings.warn(\n"
     ]
    }
   ],
   "source": [
    "imputer = IterativeImputer(estimator=DecisionTreeRegressor(), random_state=0)\n",
    "X_imputed = imputer.fit_transform(X)\n",
    "\n",
    "# Fit the regression model using decision trees.\n",
    "model = LinearRegression()\n",
    "model.fit(X_imputed, y)\n",
    "\n",
    "# Predict the values of y using the fitted model\n",
    "y_pred = model.predict(X_imputed)\n",
    "\n",
    "# Calculate the coefficient of determination (R^2)\n",
    "score_imp_multiple_arbol = r2_score(y, y_pred)\n",
    "print(\"Coefficient of determination (R^2):\", score_imp_multiple_arbol)"
   ]
  },
  {
   "cell_type": "markdown",
   "id": "d8cd6265-cc78-4d87-977b-2200944f2c96",
   "metadata": {},
   "source": [
    "Finally, we use multiple imputation using k-nearest neighbors (KNN)."
   ]
  },
  {
   "cell_type": "code",
   "execution_count": 16,
   "id": "e7ad37c7-4ce5-4348-9423-8220c27a8199",
   "metadata": {},
   "outputs": [
    {
     "name": "stdout",
     "output_type": "stream",
     "text": [
      "Coefficient of determination (R^2): 0.4452573283071828\n"
     ]
    }
   ],
   "source": [
    "imputer = KNNImputer()\n",
    "X_imputed = imputer.fit_transform(X)\n",
    "\n",
    "# Fit the regression model using decision trees.\n",
    "model = LinearRegression()\n",
    "model.fit(X_imputed, y)\n",
    "\n",
    "# Predict the values of y using the fitted model\n",
    "y_pred = model.predict(X_imputed)\n",
    "\n",
    "# Calculate the coefficient of determination (R^2)\n",
    "score_knn = r2_score(y, y_pred)\n",
    "print(\"Coefficient of determination (R^2):\", score_knn)"
   ]
  },
  {
   "cell_type": "markdown",
   "id": "fde08a58-9408-4135-9ece-21e0fb6a6482",
   "metadata": {},
   "source": [
    "And, as we can observe, it has the highest coefficient of determination with a value of 0.44525... This indicates that it is the best method for imputing missing values in this case. Another method not used in this case could be interpolation imputation."
   ]
  },
  {
   "cell_type": "markdown",
   "id": "be5ee3c5-d746-474c-bfab-a74e431e0e20",
   "metadata": {},
   "source": [
    "We introduce the values of the model into our clean dataset."
   ]
  },
  {
   "cell_type": "code",
   "execution_count": 18,
   "id": "aefa0f4e-5391-41cb-97c5-83d156942506",
   "metadata": {},
   "outputs": [],
   "source": [
    "data_clean.loc[:, 'month'] = X_imputed[:, 0]\n",
    "data_clean.loc[:, 'year'] = X_imputed[:, 1]\n",
    "data_clean.loc[:, 'plot_id'] = X_imputed[:, 2]\n",
    "data_clean.loc[:, 'sex'] = X_imputed[:, 3]\n",
    "data_clean.loc[:, 'hindfoot_length'] = X_imputed[:, 4]"
   ]
  },
  {
   "cell_type": "code",
   "execution_count": 19,
   "id": "f939d402-fd95-481f-84e3-09a242be35a7",
   "metadata": {},
   "outputs": [
    {
     "data": {
      "text/html": [
       "<div>\n",
       "<style scoped>\n",
       "    .dataframe tbody tr th:only-of-type {\n",
       "        vertical-align: middle;\n",
       "    }\n",
       "\n",
       "    .dataframe tbody tr th {\n",
       "        vertical-align: top;\n",
       "    }\n",
       "\n",
       "    .dataframe thead th {\n",
       "        text-align: right;\n",
       "    }\n",
       "</style>\n",
       "<table border=\"1\" class=\"dataframe\">\n",
       "  <thead>\n",
       "    <tr style=\"text-align: right;\">\n",
       "      <th></th>\n",
       "      <th>record_id</th>\n",
       "      <th>month</th>\n",
       "      <th>day</th>\n",
       "      <th>year</th>\n",
       "      <th>plot_id</th>\n",
       "      <th>species_id</th>\n",
       "      <th>sex</th>\n",
       "      <th>hindfoot_length</th>\n",
       "      <th>weight</th>\n",
       "    </tr>\n",
       "  </thead>\n",
       "  <tbody>\n",
       "    <tr>\n",
       "      <th>62</th>\n",
       "      <td>63</td>\n",
       "      <td>8</td>\n",
       "      <td>19</td>\n",
       "      <td>1977</td>\n",
       "      <td>3</td>\n",
       "      <td>DM</td>\n",
       "      <td>0.0</td>\n",
       "      <td>35.0</td>\n",
       "      <td>40.0</td>\n",
       "    </tr>\n",
       "    <tr>\n",
       "      <th>63</th>\n",
       "      <td>64</td>\n",
       "      <td>8</td>\n",
       "      <td>19</td>\n",
       "      <td>1977</td>\n",
       "      <td>7</td>\n",
       "      <td>DM</td>\n",
       "      <td>0.0</td>\n",
       "      <td>37.0</td>\n",
       "      <td>48.0</td>\n",
       "    </tr>\n",
       "    <tr>\n",
       "      <th>64</th>\n",
       "      <td>65</td>\n",
       "      <td>8</td>\n",
       "      <td>19</td>\n",
       "      <td>1977</td>\n",
       "      <td>4</td>\n",
       "      <td>DM</td>\n",
       "      <td>1.0</td>\n",
       "      <td>34.0</td>\n",
       "      <td>29.0</td>\n",
       "    </tr>\n",
       "    <tr>\n",
       "      <th>65</th>\n",
       "      <td>66</td>\n",
       "      <td>8</td>\n",
       "      <td>19</td>\n",
       "      <td>1977</td>\n",
       "      <td>4</td>\n",
       "      <td>DM</td>\n",
       "      <td>1.0</td>\n",
       "      <td>35.0</td>\n",
       "      <td>46.0</td>\n",
       "    </tr>\n",
       "    <tr>\n",
       "      <th>66</th>\n",
       "      <td>67</td>\n",
       "      <td>8</td>\n",
       "      <td>19</td>\n",
       "      <td>1977</td>\n",
       "      <td>7</td>\n",
       "      <td>DM</td>\n",
       "      <td>0.0</td>\n",
       "      <td>35.0</td>\n",
       "      <td>36.0</td>\n",
       "    </tr>\n",
       "  </tbody>\n",
       "</table>\n",
       "</div>"
      ],
      "text/plain": [
       "    record_id  month  day  year  plot_id species_id  sex  hindfoot_length  \\\n",
       "62         63      8   19  1977        3         DM  0.0             35.0   \n",
       "63         64      8   19  1977        7         DM  0.0             37.0   \n",
       "64         65      8   19  1977        4         DM  1.0             34.0   \n",
       "65         66      8   19  1977        4         DM  1.0             35.0   \n",
       "66         67      8   19  1977        7         DM  0.0             35.0   \n",
       "\n",
       "    weight  \n",
       "62    40.0  \n",
       "63    48.0  \n",
       "64    29.0  \n",
       "65    46.0  \n",
       "66    36.0  "
      ]
     },
     "execution_count": 19,
     "metadata": {},
     "output_type": "execute_result"
    }
   ],
   "source": [
    "data_clean.head()"
   ]
  },
  {
   "cell_type": "markdown",
   "id": "50ea2350-663d-4a5b-8e03-b1c5cab6a393",
   "metadata": {},
   "source": [
    "### Normalization"
   ]
  },
  {
   "cell_type": "markdown",
   "id": "7c4b43db-1f52-4905-b691-7e1ddf59637f",
   "metadata": {},
   "source": [
    "We begin by selecting the numerical columns that we need to normalize, which are 'weight' and 'hindfoot_length'. After obtaining the data, we normalize it using Z-score with the StandardScaler() function. Finally, we merge the data into a single dataset."
   ]
  },
  {
   "cell_type": "code",
   "execution_count": 20,
   "id": "30e6ae8d-036d-40d8-b07b-753801786b7d",
   "metadata": {},
   "outputs": [],
   "source": [
    "col_num = ['hindfoot_length', 'weight']\n",
    "num_data = data_clean[col_num]"
   ]
  },
  {
   "cell_type": "code",
   "execution_count": 21,
   "id": "a7c487ad-373e-4d43-8763-693b47aa7cf4",
   "metadata": {},
   "outputs": [],
   "source": [
    "scaler = StandardScaler()\n",
    "datos_norm = pd.DataFrame(scaler.fit_transform(num_data), columns = col_num)"
   ]
  },
  {
   "cell_type": "code",
   "execution_count": 22,
   "id": "8e5ceb3e-63b0-4742-8fa2-e33deeea3049",
   "metadata": {},
   "outputs": [],
   "source": [
    "datos_cat = data_clean.drop(columns = col_num)\n",
    "datos_unificados = pd.concat([datos_cat, datos_norm], axis = 1)"
   ]
  },
  {
   "cell_type": "code",
   "execution_count": 23,
   "id": "669f3fb2-209b-454a-99e5-96f3f8819dd7",
   "metadata": {},
   "outputs": [
    {
     "data": {
      "text/html": [
       "<div>\n",
       "<style scoped>\n",
       "    .dataframe tbody tr th:only-of-type {\n",
       "        vertical-align: middle;\n",
       "    }\n",
       "\n",
       "    .dataframe tbody tr th {\n",
       "        vertical-align: top;\n",
       "    }\n",
       "\n",
       "    .dataframe thead th {\n",
       "        text-align: right;\n",
       "    }\n",
       "</style>\n",
       "<table border=\"1\" class=\"dataframe\">\n",
       "  <thead>\n",
       "    <tr style=\"text-align: right;\">\n",
       "      <th></th>\n",
       "      <th>record_id</th>\n",
       "      <th>month</th>\n",
       "      <th>day</th>\n",
       "      <th>year</th>\n",
       "      <th>plot_id</th>\n",
       "      <th>species_id</th>\n",
       "      <th>sex</th>\n",
       "      <th>hindfoot_length</th>\n",
       "      <th>weight</th>\n",
       "    </tr>\n",
       "  </thead>\n",
       "  <tbody>\n",
       "    <tr>\n",
       "      <th>62</th>\n",
       "      <td>63.0</td>\n",
       "      <td>8.0</td>\n",
       "      <td>19.0</td>\n",
       "      <td>1977.0</td>\n",
       "      <td>3.0</td>\n",
       "      <td>DM</td>\n",
       "      <td>0.0</td>\n",
       "      <td>0.373927</td>\n",
       "      <td>-0.154855</td>\n",
       "    </tr>\n",
       "    <tr>\n",
       "      <th>63</th>\n",
       "      <td>64.0</td>\n",
       "      <td>8.0</td>\n",
       "      <td>19.0</td>\n",
       "      <td>1977.0</td>\n",
       "      <td>7.0</td>\n",
       "      <td>DM</td>\n",
       "      <td>0.0</td>\n",
       "      <td>0.689495</td>\n",
       "      <td>-0.236753</td>\n",
       "    </tr>\n",
       "    <tr>\n",
       "      <th>64</th>\n",
       "      <td>65.0</td>\n",
       "      <td>8.0</td>\n",
       "      <td>19.0</td>\n",
       "      <td>1977.0</td>\n",
       "      <td>4.0</td>\n",
       "      <td>DM</td>\n",
       "      <td>1.0</td>\n",
       "      <td>0.689495</td>\n",
       "      <td>0.063542</td>\n",
       "    </tr>\n",
       "    <tr>\n",
       "      <th>65</th>\n",
       "      <td>66.0</td>\n",
       "      <td>8.0</td>\n",
       "      <td>19.0</td>\n",
       "      <td>1977.0</td>\n",
       "      <td>4.0</td>\n",
       "      <td>DM</td>\n",
       "      <td>1.0</td>\n",
       "      <td>-1.519483</td>\n",
       "      <td>-0.973840</td>\n",
       "    </tr>\n",
       "    <tr>\n",
       "      <th>66</th>\n",
       "      <td>67.0</td>\n",
       "      <td>8.0</td>\n",
       "      <td>19.0</td>\n",
       "      <td>1977.0</td>\n",
       "      <td>7.0</td>\n",
       "      <td>DM</td>\n",
       "      <td>0.0</td>\n",
       "      <td>0.794684</td>\n",
       "      <td>0.227339</td>\n",
       "    </tr>\n",
       "    <tr>\n",
       "      <th>...</th>\n",
       "      <td>...</td>\n",
       "      <td>...</td>\n",
       "      <td>...</td>\n",
       "      <td>...</td>\n",
       "      <td>...</td>\n",
       "      <td>...</td>\n",
       "      <td>...</td>\n",
       "      <td>...</td>\n",
       "      <td>...</td>\n",
       "    </tr>\n",
       "    <tr>\n",
       "      <th>32248</th>\n",
       "      <td>NaN</td>\n",
       "      <td>NaN</td>\n",
       "      <td>NaN</td>\n",
       "      <td>NaN</td>\n",
       "      <td>NaN</td>\n",
       "      <td>NaN</td>\n",
       "      <td>NaN</td>\n",
       "      <td>-0.467589</td>\n",
       "      <td>-0.427850</td>\n",
       "    </tr>\n",
       "    <tr>\n",
       "      <th>32249</th>\n",
       "      <td>NaN</td>\n",
       "      <td>NaN</td>\n",
       "      <td>NaN</td>\n",
       "      <td>NaN</td>\n",
       "      <td>NaN</td>\n",
       "      <td>NaN</td>\n",
       "      <td>NaN</td>\n",
       "      <td>-1.098725</td>\n",
       "      <td>-0.509748</td>\n",
       "    </tr>\n",
       "    <tr>\n",
       "      <th>32250</th>\n",
       "      <td>NaN</td>\n",
       "      <td>NaN</td>\n",
       "      <td>NaN</td>\n",
       "      <td>NaN</td>\n",
       "      <td>NaN</td>\n",
       "      <td>NaN</td>\n",
       "      <td>NaN</td>\n",
       "      <td>-1.729861</td>\n",
       "      <td>-0.946540</td>\n",
       "    </tr>\n",
       "    <tr>\n",
       "      <th>32251</th>\n",
       "      <td>NaN</td>\n",
       "      <td>NaN</td>\n",
       "      <td>NaN</td>\n",
       "      <td>NaN</td>\n",
       "      <td>NaN</td>\n",
       "      <td>NaN</td>\n",
       "      <td>NaN</td>\n",
       "      <td>-0.257210</td>\n",
       "      <td>-0.182154</td>\n",
       "    </tr>\n",
       "    <tr>\n",
       "      <th>32252</th>\n",
       "      <td>NaN</td>\n",
       "      <td>NaN</td>\n",
       "      <td>NaN</td>\n",
       "      <td>NaN</td>\n",
       "      <td>NaN</td>\n",
       "      <td>NaN</td>\n",
       "      <td>NaN</td>\n",
       "      <td>-0.467589</td>\n",
       "      <td>-0.209454</td>\n",
       "    </tr>\n",
       "  </tbody>\n",
       "</table>\n",
       "<p>35324 rows × 9 columns</p>\n",
       "</div>"
      ],
      "text/plain": [
       "       record_id  month   day    year  plot_id species_id  sex  \\\n",
       "62          63.0    8.0  19.0  1977.0      3.0         DM  0.0   \n",
       "63          64.0    8.0  19.0  1977.0      7.0         DM  0.0   \n",
       "64          65.0    8.0  19.0  1977.0      4.0         DM  1.0   \n",
       "65          66.0    8.0  19.0  1977.0      4.0         DM  1.0   \n",
       "66          67.0    8.0  19.0  1977.0      7.0         DM  0.0   \n",
       "...          ...    ...   ...     ...      ...        ...  ...   \n",
       "32248        NaN    NaN   NaN     NaN      NaN        NaN  NaN   \n",
       "32249        NaN    NaN   NaN     NaN      NaN        NaN  NaN   \n",
       "32250        NaN    NaN   NaN     NaN      NaN        NaN  NaN   \n",
       "32251        NaN    NaN   NaN     NaN      NaN        NaN  NaN   \n",
       "32252        NaN    NaN   NaN     NaN      NaN        NaN  NaN   \n",
       "\n",
       "       hindfoot_length    weight  \n",
       "62            0.373927 -0.154855  \n",
       "63            0.689495 -0.236753  \n",
       "64            0.689495  0.063542  \n",
       "65           -1.519483 -0.973840  \n",
       "66            0.794684  0.227339  \n",
       "...                ...       ...  \n",
       "32248        -0.467589 -0.427850  \n",
       "32249        -1.098725 -0.509748  \n",
       "32250        -1.729861 -0.946540  \n",
       "32251        -0.257210 -0.182154  \n",
       "32252        -0.467589 -0.209454  \n",
       "\n",
       "[35324 rows x 9 columns]"
      ]
     },
     "execution_count": 23,
     "metadata": {},
     "output_type": "execute_result"
    }
   ],
   "source": [
    "datos_unificados"
   ]
  },
  {
   "cell_type": "markdown",
   "id": "3c835b4f-ad0a-427d-9e44-4cba278c3b56",
   "metadata": {},
   "source": [
    "The normalized values for 'hindfoot_length' and 'weight' indicate how many standard deviations the original values are from the mean of the data.\n",
    "\n",
    "For example, a normalized value of 0.373927 for 'hindfoot_length' means that the original value was approximately 0.37 standard deviations above the mean.\n",
    "\n",
    "A negative normalized value indicates that the original value is below the mean, while a positive value indicates that it is above the mean.\n",
    "\n",
    "A normalized value of 0 means that the original value is equal to the mean of the normalized data."
   ]
  }
 ],
 "metadata": {
  "kernelspec": {
   "display_name": "Python 3 (ipykernel)",
   "language": "python",
   "name": "python3"
  },
  "language_info": {
   "codemirror_mode": {
    "name": "ipython",
    "version": 3
   },
   "file_extension": ".py",
   "mimetype": "text/x-python",
   "name": "python",
   "nbconvert_exporter": "python",
   "pygments_lexer": "ipython3",
   "version": "3.11.7"
  }
 },
 "nbformat": 4,
 "nbformat_minor": 5
}
