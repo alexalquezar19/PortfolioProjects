{
 "cells": [
  {
   "cell_type": "markdown",
   "id": "6720280a-4cbc-449e-9f7c-62f44be0ce6a",
   "metadata": {},
   "source": [
    "Alejandro Alquezar Pitarch - Proyecto Universitario"
   ]
  },
  {
   "cell_type": "markdown",
   "id": "7bc018e6-01ee-4c5d-861c-c252d56a98c2",
   "metadata": {},
   "source": [
    "# Datos Ausentes y Normalización"
   ]
  },
  {
   "cell_type": "markdown",
   "id": "ed739cac-2e2f-48b2-9a39-f62af306c141",
   "metadata": {},
   "source": [
    "Cargamos los datos y realizamos un gráfico para tener una representación visual de\r\n",
    "los datos ausentes por cada variable."
   ]
  },
  {
   "cell_type": "code",
   "execution_count": 82,
   "id": "e34051a9-c1a6-4142-acca-c0cea9332bb7",
   "metadata": {},
   "outputs": [],
   "source": [
    "import pandas as pd\n",
    "import seaborn as sns\n",
    "import matplotlib.pyplot as plt\n",
    "from sklearn.pipeline import Pipeline\n",
    "from sklearn.experimental import enable_iterative_imputer\n",
    "from sklearn.impute import KNNImputer,SimpleImputer, IterativeImputer\n",
    "from sklearn.metrics import r2_score\n",
    "from sklearn.tree import DecisionTreeRegressor\n",
    "from sklearn.linear_model import LinearRegression\n",
    "from sklearn.preprocessing import StandardScaler"
   ]
  },
  {
   "cell_type": "code",
   "execution_count": 83,
   "id": "b0c5b11a-67df-4f2d-8e3b-dc3215cd88cc",
   "metadata": {},
   "outputs": [],
   "source": [
    "surveys = pd.read_csv(\"surveys.csv\")"
   ]
  },
  {
   "cell_type": "code",
   "execution_count": 84,
   "id": "1a4b46ab-313a-4f98-b045-13e3f7166dd1",
   "metadata": {},
   "outputs": [
    {
     "data": {
      "text/html": [
       "<div>\n",
       "<style scoped>\n",
       "    .dataframe tbody tr th:only-of-type {\n",
       "        vertical-align: middle;\n",
       "    }\n",
       "\n",
       "    .dataframe tbody tr th {\n",
       "        vertical-align: top;\n",
       "    }\n",
       "\n",
       "    .dataframe thead th {\n",
       "        text-align: right;\n",
       "    }\n",
       "</style>\n",
       "<table border=\"1\" class=\"dataframe\">\n",
       "  <thead>\n",
       "    <tr style=\"text-align: right;\">\n",
       "      <th></th>\n",
       "      <th>record_id</th>\n",
       "      <th>month</th>\n",
       "      <th>day</th>\n",
       "      <th>year</th>\n",
       "      <th>plot_id</th>\n",
       "      <th>species_id</th>\n",
       "      <th>sex</th>\n",
       "      <th>hindfoot_length</th>\n",
       "      <th>weight</th>\n",
       "    </tr>\n",
       "  </thead>\n",
       "  <tbody>\n",
       "    <tr>\n",
       "      <th>0</th>\n",
       "      <td>1</td>\n",
       "      <td>7</td>\n",
       "      <td>16</td>\n",
       "      <td>1977</td>\n",
       "      <td>2</td>\n",
       "      <td>NL</td>\n",
       "      <td>M</td>\n",
       "      <td>32.0</td>\n",
       "      <td>NaN</td>\n",
       "    </tr>\n",
       "    <tr>\n",
       "      <th>1</th>\n",
       "      <td>2</td>\n",
       "      <td>7</td>\n",
       "      <td>16</td>\n",
       "      <td>1977</td>\n",
       "      <td>3</td>\n",
       "      <td>NL</td>\n",
       "      <td>M</td>\n",
       "      <td>33.0</td>\n",
       "      <td>NaN</td>\n",
       "    </tr>\n",
       "    <tr>\n",
       "      <th>2</th>\n",
       "      <td>3</td>\n",
       "      <td>7</td>\n",
       "      <td>16</td>\n",
       "      <td>1977</td>\n",
       "      <td>2</td>\n",
       "      <td>DM</td>\n",
       "      <td>F</td>\n",
       "      <td>37.0</td>\n",
       "      <td>NaN</td>\n",
       "    </tr>\n",
       "    <tr>\n",
       "      <th>3</th>\n",
       "      <td>4</td>\n",
       "      <td>7</td>\n",
       "      <td>16</td>\n",
       "      <td>1977</td>\n",
       "      <td>7</td>\n",
       "      <td>DM</td>\n",
       "      <td>M</td>\n",
       "      <td>36.0</td>\n",
       "      <td>NaN</td>\n",
       "    </tr>\n",
       "    <tr>\n",
       "      <th>4</th>\n",
       "      <td>5</td>\n",
       "      <td>7</td>\n",
       "      <td>16</td>\n",
       "      <td>1977</td>\n",
       "      <td>3</td>\n",
       "      <td>DM</td>\n",
       "      <td>M</td>\n",
       "      <td>35.0</td>\n",
       "      <td>NaN</td>\n",
       "    </tr>\n",
       "  </tbody>\n",
       "</table>\n",
       "</div>"
      ],
      "text/plain": [
       "   record_id  month  day  year  plot_id species_id sex  hindfoot_length  \\\n",
       "0          1      7   16  1977        2         NL   M             32.0   \n",
       "1          2      7   16  1977        3         NL   M             33.0   \n",
       "2          3      7   16  1977        2         DM   F             37.0   \n",
       "3          4      7   16  1977        7         DM   M             36.0   \n",
       "4          5      7   16  1977        3         DM   M             35.0   \n",
       "\n",
       "   weight  \n",
       "0     NaN  \n",
       "1     NaN  \n",
       "2     NaN  \n",
       "3     NaN  \n",
       "4     NaN  "
      ]
     },
     "execution_count": 84,
     "metadata": {},
     "output_type": "execute_result"
    }
   ],
   "source": [
    "surveys.head()"
   ]
  },
  {
   "cell_type": "code",
   "execution_count": 85,
   "id": "20610b6f-8186-4577-81db-0eec204751f3",
   "metadata": {},
   "outputs": [
    {
     "data": {
      "image/png": "[encoded data removed]",
      "text/plain": [
       "<Figure size 640x480 with 1 Axes>"
      ]
     },
     "metadata": {},
     "output_type": "display_data"
    }
   ],
   "source": [
    "missing_data_count = surveys.isnull().sum()\n",
    "missing_data_ratio = (missing_data_count / len(surveys)) * 100\n",
    "\n",
    "missing_data_summary = pd.DataFrame({'Variable': missing_data_count.index,\n",
    "                                     'Datos_faltantes': missing_data_count.values,\n",
    "                                     'Ratio_datos_faltantes': missing_data_ratio.values})\n",
    "\n",
    "sns.barplot(x=\"Ratio_datos_faltantes\", y = \"Variable\", data = missing_data_summary)\n",
    "plt.title(\"Proporcion de datos perdidos por variable\")\n",
    "plt.xlabel(\"Proporcion de datos perdidos\")\n",
    "plt.ylabel(\"Variable\")\n",
    "plt.show()"
   ]
  },
  {
   "cell_type": "markdown",
   "id": "68ad0213-ef16-4715-ad28-0d26e32f9551",
   "metadata": {},
   "source": [
    "Tomamos la variable ‘weight’ como dependiente y las variables explicativas ‘month’,\r\n",
    "‘year’, ‘plot_id’, ‘sex’ y ‘hindfoot_length’. Dado que sex no es una variable numérica,\r\n",
    "y eso nos puede causar problemas, sustituimos los valores de M (macho) por el valor\r\n",
    "0 y los valores de F (hembra) por el valor 1.\r"
   ]
  },
  {
   "cell_type": "code",
   "execution_count": 86,
   "id": "f3d80624-bf68-4b83-b3ea-14784a2c47f1",
   "metadata": {},
   "outputs": [
    {
     "name": "stdout",
     "output_type": "stream",
     "text": [
      "¿Hay valores nulos en la variable weight?\n",
      "False\n",
      "\n",
      "Número de observaciones en el conjunto de datos X (variables explicativas): 32283\n",
      "Número de observaciones en el conjunto de datos y (variable dependiente): 32283\n"
     ]
    }
   ],
   "source": [
    "#Dado que la variable sex no es númerica, vamos a sustituir M (macho) por 0 y F (hembra) por 1.\n",
    "surveys['sex'] = surveys['sex'].replace({'M': 0, 'F': 1})\n",
    "\n",
    "data_clean = surveys.dropna(subset=['weight'])\n",
    "\n",
    "variables_explicativas = ['month', 'year', 'plot_id', 'sex', 'hindfoot_length']\n",
    "y = data_clean['weight']\n",
    "X = data_clean[variables_explicativas]\n",
    "\n",
    "print(\"¿Hay valores nulos en la variable weight?\")\n",
    "print(data_clean['weight'].isnull().any())\n",
    "\n",
    "# Mostrar el número de observaciones en los conjuntos de datos X e y\n",
    "print(\"\\nNúmero de observaciones en el conjunto de datos X (variables explicativas):\", X.shape[0])\n",
    "print(\"Número de observaciones en el conjunto de datos y (variable dependiente):\", y.shape[0])"
   ]
  },
  {
   "cell_type": "markdown",
   "id": "0ab863e3-d2d7-431a-ac00-5c73670fa0b6",
   "metadata": {},
   "source": [
    "### Mecanismos de imputación"
   ]
  },
  {
   "cell_type": "markdown",
   "id": "f3488ac2-6988-4d89-a2f4-24973eab101e",
   "metadata": {},
   "source": [
    "Empezamos primero utilizando imputación simple usando la media:\r"
   ]
  },
  {
   "cell_type": "code",
   "execution_count": 87,
   "id": "ca9586d9-9879-45d3-a523-f8b4badc832c",
   "metadata": {},
   "outputs": [
    {
     "name": "stdout",
     "output_type": "stream",
     "text": [
      "Coeficiente de determinación (R^2): 0.4334811293712356\n"
     ]
    }
   ],
   "source": [
    "#Imputación simple usando la media\n",
    "imputer = SimpleImputer(strategy='mean')\n",
    "X_imputed = imputer.fit_transform(X)\n",
    "\n",
    "# Ajustar el modelo de regresión lineal\n",
    "model = LinearRegression()\n",
    "model.fit(X_imputed, y)\n",
    "\n",
    "# Predecir los valores de y utilizando el modelo ajustado\n",
    "y_pred = model.predict(X_imputed)\n",
    "\n",
    "# Calcular el coeficiente de determinación (R^2)\n",
    "score_imp_simple_media = r2_score(y, y_pred)\n",
    "print(\"Coeficiente de determinación (R^2):\", score_imp_simple_media)"
   ]
  },
  {
   "cell_type": "markdown",
   "id": "2e79d900-dc6a-44cd-a91b-c710a413bdd5",
   "metadata": {},
   "source": [
    "Ahora, realizamos imputación simple usando la mediana:\r"
   ]
  },
  {
   "cell_type": "code",
   "execution_count": 88,
   "id": "73cda062-9c7a-4b90-b6f9-c8e264d74d5f",
   "metadata": {},
   "outputs": [
    {
     "name": "stdout",
     "output_type": "stream",
     "text": [
      "Coeficiente de determinación (R^2): 0.4372417276222883\n"
     ]
    }
   ],
   "source": [
    "imputer = SimpleImputer(strategy='median')\n",
    "X_imputed = imputer.fit_transform(X)\n",
    "\n",
    "# Ajustar el modelo de regresión lineal\n",
    "model = LinearRegression()\n",
    "model.fit(X_imputed, y)\n",
    "\n",
    "# Predecir los valores de y utilizando el modelo ajustado\n",
    "y_pred = model.predict(X_imputed)\n",
    "\n",
    "# Calcular el coeficiente de determinación (R^2)\n",
    "score_imp_simple_mediana = r2_score(y, y_pred)\n",
    "print(\"Coeficiente de determinación (R^2):\", score_imp_simple_mediana)"
   ]
  },
  {
   "cell_type": "markdown",
   "id": "289494c0-8ad2-4258-b5ef-8845ee14c15b",
   "metadata": {},
   "source": [
    "A continuación, realizamos imputación múltiple usando regresiones (MICE):\n"
   ]
  },
  {
   "cell_type": "code",
   "execution_count": 89,
   "id": "9f8e1541-fc3a-44e9-9791-4c768a48f40e",
   "metadata": {},
   "outputs": [
    {
     "name": "stdout",
     "output_type": "stream",
     "text": [
      "Coeficiente de determinación (R^2): 0.43919327531655894\n"
     ]
    }
   ],
   "source": [
    "imputer = IterativeImputer()\n",
    "X_imputed = imputer.fit_transform(X)\n",
    "\n",
    "# Ajustar el modelo de regresión lineal\n",
    "model = LinearRegression()\n",
    "model.fit(X_imputed, y)\n",
    "\n",
    "# Predecir los valores de y utilizando el modelo ajustado\n",
    "y_pred = model.predict(X_imputed)\n",
    "\n",
    "# Calcular el coeficiente de determinación (R^2)\n",
    "score_imp_multiple_simple = r2_score(y, y_pred)\n",
    "print(\"Coeficiente de determinación (R^2):\", score_imp_multiple_simple)"
   ]
  },
  {
   "cell_type": "markdown",
   "id": "4359670c-8457-4a1f-b75c-a8c943c646a4",
   "metadata": {},
   "source": [
    "Continuamos utilizando una imputación múltiple en este caso usando árboles:"
   ]
  },
  {
   "cell_type": "code",
   "execution_count": 90,
   "id": "aca28eb8-12b2-4c41-8c8b-e7d757514688",
   "metadata": {},
   "outputs": [
    {
     "name": "stdout",
     "output_type": "stream",
     "text": [
      "Coeficiente de determinación (R^2): 0.4407359858018337\n"
     ]
    },
    {
     "name": "stderr",
     "output_type": "stream",
     "text": [
      "C:\\Users\\Alejandro\\anaconda3\\Lib\\site-packages\\sklearn\\impute\\_iterative.py:785: ConvergenceWarning: [IterativeImputer] Early stopping criterion not reached.\n",
      "  warnings.warn(\n"
     ]
    }
   ],
   "source": [
    "imputer = IterativeImputer(estimator=DecisionTreeRegressor(), random_state=0)\n",
    "X_imputed = imputer.fit_transform(X)\n",
    "\n",
    "# Ajustar el modelo de regresion mediante arboles de decisiones\n",
    "model = LinearRegression()\n",
    "model.fit(X_imputed, y)\n",
    "\n",
    "# Predecir los valores de y utilizando el modelo ajustado\n",
    "y_pred = model.predict(X_imputed)\n",
    "\n",
    "# Calcular el coeficiente de determinación (R^2)\n",
    "score_imp_multiple_arbol = r2_score(y, y_pred)\n",
    "print(\"Coeficiente de determinación (R^2):\", score_imp_multiple_arbol)"
   ]
  },
  {
   "cell_type": "markdown",
   "id": "d97b360b-e264-4bb9-8cc8-8baef4c1baa9",
   "metadata": {},
   "source": [
    "Finalmente, utilizamos imputación múltiple usando k vecinos más cercanos:\n"
   ]
  },
  {
   "cell_type": "code",
   "execution_count": 91,
   "id": "e7ad37c7-4ce5-4348-9423-8220c27a8199",
   "metadata": {},
   "outputs": [
    {
     "name": "stdout",
     "output_type": "stream",
     "text": [
      "Coeficiente de determinación (R^2): 0.4452573283071828\n"
     ]
    }
   ],
   "source": [
    "imputer = KNNImputer()\n",
    "X_imputed = imputer.fit_transform(X)\n",
    "\n",
    "# Ajustar el modelo de regresion mediante arboles de decisiones\n",
    "model = LinearRegression()\n",
    "model.fit(X_imputed, y)\n",
    "\n",
    "# Predecir los valores de y utilizando el modelo ajustado\n",
    "y_pred = model.predict(X_imputed)\n",
    "\n",
    "# Calcular el coeficiente de determinación (R^2)\n",
    "score_knn = r2_score(y, y_pred)\n",
    "print(\"Coeficiente de determinación (R^2):\", score_knn)"
   ]
  },
  {
   "cell_type": "markdown",
   "id": "02d1cab7-594b-4818-bf02-fbb6bd91c2b3",
   "metadata": {},
   "source": [
    "Y, como podemos observar, tiene el coeficiente de determinación mas elevado con\n",
    "un valor de 0,44525… Lo que nos indica que es el mejor método para imputar los\n",
    "valores ausentes en este caso. Otro método no utilizado en este caso puede ser el de\n",
    "imputación por interpolación."
   ]
  },
  {
   "cell_type": "markdown",
   "id": "20200bd8-28b4-4270-9b00-8e028a8a308e",
   "metadata": {},
   "source": [
    "Introducimos los valores del modelo a nuestro conjunto de datos limpio:"
   ]
  },
  {
   "cell_type": "code",
   "execution_count": 101,
   "id": "aefa0f4e-5391-41cb-97c5-83d156942506",
   "metadata": {},
   "outputs": [],
   "source": [
    "data_clean.loc[:, 'month'] = X_imputed[:, 0]\n",
    "data_clean.loc[:, 'year'] = X_imputed[:, 1]\n",
    "data_clean.loc[:, 'plot_id'] = X_imputed[:, 2]\n",
    "data_clean.loc[:, 'sex'] = X_imputed[:, 3]\n",
    "data_clean.loc[:, 'hindfoot_length'] = X_imputed[:, 4]"
   ]
  },
  {
   "cell_type": "code",
   "execution_count": 102,
   "id": "f939d402-fd95-481f-84e3-09a242be35a7",
   "metadata": {},
   "outputs": [
    {
     "data": {
      "text/html": [
       "<div>\n",
       "<style scoped>\n",
       "    .dataframe tbody tr th:only-of-type {\n",
       "        vertical-align: middle;\n",
       "    }\n",
       "\n",
       "    .dataframe tbody tr th {\n",
       "        vertical-align: top;\n",
       "    }\n",
       "\n",
       "    .dataframe thead th {\n",
       "        text-align: right;\n",
       "    }\n",
       "</style>\n",
       "<table border=\"1\" class=\"dataframe\">\n",
       "  <thead>\n",
       "    <tr style=\"text-align: right;\">\n",
       "      <th></th>\n",
       "      <th>record_id</th>\n",
       "      <th>month</th>\n",
       "      <th>day</th>\n",
       "      <th>year</th>\n",
       "      <th>plot_id</th>\n",
       "      <th>species_id</th>\n",
       "      <th>sex</th>\n",
       "      <th>hindfoot_length</th>\n",
       "      <th>weight</th>\n",
       "    </tr>\n",
       "  </thead>\n",
       "  <tbody>\n",
       "    <tr>\n",
       "      <th>62</th>\n",
       "      <td>63</td>\n",
       "      <td>8</td>\n",
       "      <td>19</td>\n",
       "      <td>1977</td>\n",
       "      <td>3</td>\n",
       "      <td>DM</td>\n",
       "      <td>0.0</td>\n",
       "      <td>35.0</td>\n",
       "      <td>40.0</td>\n",
       "    </tr>\n",
       "    <tr>\n",
       "      <th>63</th>\n",
       "      <td>64</td>\n",
       "      <td>8</td>\n",
       "      <td>19</td>\n",
       "      <td>1977</td>\n",
       "      <td>7</td>\n",
       "      <td>DM</td>\n",
       "      <td>0.0</td>\n",
       "      <td>37.0</td>\n",
       "      <td>48.0</td>\n",
       "    </tr>\n",
       "    <tr>\n",
       "      <th>64</th>\n",
       "      <td>65</td>\n",
       "      <td>8</td>\n",
       "      <td>19</td>\n",
       "      <td>1977</td>\n",
       "      <td>4</td>\n",
       "      <td>DM</td>\n",
       "      <td>1.0</td>\n",
       "      <td>34.0</td>\n",
       "      <td>29.0</td>\n",
       "    </tr>\n",
       "    <tr>\n",
       "      <th>65</th>\n",
       "      <td>66</td>\n",
       "      <td>8</td>\n",
       "      <td>19</td>\n",
       "      <td>1977</td>\n",
       "      <td>4</td>\n",
       "      <td>DM</td>\n",
       "      <td>1.0</td>\n",
       "      <td>35.0</td>\n",
       "      <td>46.0</td>\n",
       "    </tr>\n",
       "    <tr>\n",
       "      <th>66</th>\n",
       "      <td>67</td>\n",
       "      <td>8</td>\n",
       "      <td>19</td>\n",
       "      <td>1977</td>\n",
       "      <td>7</td>\n",
       "      <td>DM</td>\n",
       "      <td>0.0</td>\n",
       "      <td>35.0</td>\n",
       "      <td>36.0</td>\n",
       "    </tr>\n",
       "  </tbody>\n",
       "</table>\n",
       "</div>"
      ],
      "text/plain": [
       "    record_id  month  day  year  plot_id species_id  sex  hindfoot_length  \\\n",
       "62         63      8   19  1977        3         DM  0.0             35.0   \n",
       "63         64      8   19  1977        7         DM  0.0             37.0   \n",
       "64         65      8   19  1977        4         DM  1.0             34.0   \n",
       "65         66      8   19  1977        4         DM  1.0             35.0   \n",
       "66         67      8   19  1977        7         DM  0.0             35.0   \n",
       "\n",
       "    weight  \n",
       "62    40.0  \n",
       "63    48.0  \n",
       "64    29.0  \n",
       "65    46.0  \n",
       "66    36.0  "
      ]
     },
     "execution_count": 102,
     "metadata": {},
     "output_type": "execute_result"
    }
   ],
   "source": [
    "data_clean.head()"
   ]
  },
  {
   "cell_type": "markdown",
   "id": "66461756-d3aa-4dd1-82b4-78673dbca5d4",
   "metadata": {},
   "source": [
    "### Normalización"
   ]
  },
  {
   "cell_type": "markdown",
   "id": "04ed044f-d628-4853-8803-f15578cbefea",
   "metadata": {},
   "source": [
    "Empezamos seleccionando las columnas numéricas que vamos a normalizar. En este\r\n",
    "caso, son las columnas ‘weight’ y ‘hindfoot_length’. Una vez tenemos los datos, los\r\n",
    "normalizamos usando Z-score con la función StandardScaler(). Finalmente,\r\n",
    "unificamos los datos en un misconjunto de datosset."
   ]
  },
  {
   "cell_type": "code",
   "execution_count": 105,
   "id": "30e6ae8d-036d-40d8-b07b-753801786b7d",
   "metadata": {},
   "outputs": [],
   "source": [
    "col_num = ['hindfoot_length', 'weight']\n",
    "num_data = data_clean[col_num]"
   ]
  },
  {
   "cell_type": "code",
   "execution_count": 98,
   "id": "a7c487ad-373e-4d43-8763-693b47aa7cf4",
   "metadata": {},
   "outputs": [],
   "source": [
    "scaler = StandardScaler()\n",
    "datos_norm = pd.DataFrame(scaler.fit_transform(num_data), columns = col_num)"
   ]
  },
  {
   "cell_type": "code",
   "execution_count": 121,
   "id": "8e5ceb3e-63b0-4742-8fa2-e33deeea3049",
   "metadata": {},
   "outputs": [],
   "source": [
    "datos_cat = data_clean.drop(columns = col_num)\n",
    "datos_unificados = pd.concat([datos_cat, datos_norm], axis = 1)"
   ]
  },
  {
   "cell_type": "code",
   "execution_count": 122,
   "id": "669f3fb2-209b-454a-99e5-96f3f8819dd7",
   "metadata": {},
   "outputs": [
    {
     "data": {
      "text/html": [
       "<div>\n",
       "<style scoped>\n",
       "    .dataframe tbody tr th:only-of-type {\n",
       "        vertical-align: middle;\n",
       "    }\n",
       "\n",
       "    .dataframe tbody tr th {\n",
       "        vertical-align: top;\n",
       "    }\n",
       "\n",
       "    .dataframe thead th {\n",
       "        text-align: right;\n",
       "    }\n",
       "</style>\n",
       "<table border=\"1\" class=\"dataframe\">\n",
       "  <thead>\n",
       "    <tr style=\"text-align: right;\">\n",
       "      <th></th>\n",
       "      <th>record_id</th>\n",
       "      <th>month</th>\n",
       "      <th>day</th>\n",
       "      <th>year</th>\n",
       "      <th>plot_id</th>\n",
       "      <th>species_id</th>\n",
       "      <th>sex</th>\n",
       "      <th>hindfoot_length</th>\n",
       "      <th>weight</th>\n",
       "    </tr>\n",
       "  </thead>\n",
       "  <tbody>\n",
       "    <tr>\n",
       "      <th>62</th>\n",
       "      <td>63.0</td>\n",
       "      <td>8.0</td>\n",
       "      <td>19.0</td>\n",
       "      <td>1977.0</td>\n",
       "      <td>3.0</td>\n",
       "      <td>DM</td>\n",
       "      <td>0.0</td>\n",
       "      <td>0.373927</td>\n",
       "      <td>-0.154855</td>\n",
       "    </tr>\n",
       "    <tr>\n",
       "      <th>63</th>\n",
       "      <td>64.0</td>\n",
       "      <td>8.0</td>\n",
       "      <td>19.0</td>\n",
       "      <td>1977.0</td>\n",
       "      <td>7.0</td>\n",
       "      <td>DM</td>\n",
       "      <td>0.0</td>\n",
       "      <td>0.689495</td>\n",
       "      <td>-0.236753</td>\n",
       "    </tr>\n",
       "    <tr>\n",
       "      <th>64</th>\n",
       "      <td>65.0</td>\n",
       "      <td>8.0</td>\n",
       "      <td>19.0</td>\n",
       "      <td>1977.0</td>\n",
       "      <td>4.0</td>\n",
       "      <td>DM</td>\n",
       "      <td>1.0</td>\n",
       "      <td>0.689495</td>\n",
       "      <td>0.063542</td>\n",
       "    </tr>\n",
       "    <tr>\n",
       "      <th>65</th>\n",
       "      <td>66.0</td>\n",
       "      <td>8.0</td>\n",
       "      <td>19.0</td>\n",
       "      <td>1977.0</td>\n",
       "      <td>4.0</td>\n",
       "      <td>DM</td>\n",
       "      <td>1.0</td>\n",
       "      <td>-1.519483</td>\n",
       "      <td>-0.973840</td>\n",
       "    </tr>\n",
       "    <tr>\n",
       "      <th>66</th>\n",
       "      <td>67.0</td>\n",
       "      <td>8.0</td>\n",
       "      <td>19.0</td>\n",
       "      <td>1977.0</td>\n",
       "      <td>7.0</td>\n",
       "      <td>DM</td>\n",
       "      <td>0.0</td>\n",
       "      <td>0.794684</td>\n",
       "      <td>0.227339</td>\n",
       "    </tr>\n",
       "    <tr>\n",
       "      <th>...</th>\n",
       "      <td>...</td>\n",
       "      <td>...</td>\n",
       "      <td>...</td>\n",
       "      <td>...</td>\n",
       "      <td>...</td>\n",
       "      <td>...</td>\n",
       "      <td>...</td>\n",
       "      <td>...</td>\n",
       "      <td>...</td>\n",
       "    </tr>\n",
       "    <tr>\n",
       "      <th>32248</th>\n",
       "      <td>NaN</td>\n",
       "      <td>NaN</td>\n",
       "      <td>NaN</td>\n",
       "      <td>NaN</td>\n",
       "      <td>NaN</td>\n",
       "      <td>NaN</td>\n",
       "      <td>NaN</td>\n",
       "      <td>-0.467589</td>\n",
       "      <td>-0.427850</td>\n",
       "    </tr>\n",
       "    <tr>\n",
       "      <th>32249</th>\n",
       "      <td>NaN</td>\n",
       "      <td>NaN</td>\n",
       "      <td>NaN</td>\n",
       "      <td>NaN</td>\n",
       "      <td>NaN</td>\n",
       "      <td>NaN</td>\n",
       "      <td>NaN</td>\n",
       "      <td>-1.098725</td>\n",
       "      <td>-0.509748</td>\n",
       "    </tr>\n",
       "    <tr>\n",
       "      <th>32250</th>\n",
       "      <td>NaN</td>\n",
       "      <td>NaN</td>\n",
       "      <td>NaN</td>\n",
       "      <td>NaN</td>\n",
       "      <td>NaN</td>\n",
       "      <td>NaN</td>\n",
       "      <td>NaN</td>\n",
       "      <td>-1.729861</td>\n",
       "      <td>-0.946540</td>\n",
       "    </tr>\n",
       "    <tr>\n",
       "      <th>32251</th>\n",
       "      <td>NaN</td>\n",
       "      <td>NaN</td>\n",
       "      <td>NaN</td>\n",
       "      <td>NaN</td>\n",
       "      <td>NaN</td>\n",
       "      <td>NaN</td>\n",
       "      <td>NaN</td>\n",
       "      <td>-0.257210</td>\n",
       "      <td>-0.182154</td>\n",
       "    </tr>\n",
       "    <tr>\n",
       "      <th>32252</th>\n",
       "      <td>NaN</td>\n",
       "      <td>NaN</td>\n",
       "      <td>NaN</td>\n",
       "      <td>NaN</td>\n",
       "      <td>NaN</td>\n",
       "      <td>NaN</td>\n",
       "      <td>NaN</td>\n",
       "      <td>-0.467589</td>\n",
       "      <td>-0.209454</td>\n",
       "    </tr>\n",
       "  </tbody>\n",
       "</table>\n",
       "<p>35324 rows × 9 columns</p>\n",
       "</div>"
      ],
      "text/plain": [
       "       record_id  month   day    year  plot_id species_id  sex  \\\n",
       "62          63.0    8.0  19.0  1977.0      3.0         DM  0.0   \n",
       "63          64.0    8.0  19.0  1977.0      7.0         DM  0.0   \n",
       "64          65.0    8.0  19.0  1977.0      4.0         DM  1.0   \n",
       "65          66.0    8.0  19.0  1977.0      4.0         DM  1.0   \n",
       "66          67.0    8.0  19.0  1977.0      7.0         DM  0.0   \n",
       "...          ...    ...   ...     ...      ...        ...  ...   \n",
       "32248        NaN    NaN   NaN     NaN      NaN        NaN  NaN   \n",
       "32249        NaN    NaN   NaN     NaN      NaN        NaN  NaN   \n",
       "32250        NaN    NaN   NaN     NaN      NaN        NaN  NaN   \n",
       "32251        NaN    NaN   NaN     NaN      NaN        NaN  NaN   \n",
       "32252        NaN    NaN   NaN     NaN      NaN        NaN  NaN   \n",
       "\n",
       "       hindfoot_length    weight  \n",
       "62            0.373927 -0.154855  \n",
       "63            0.689495 -0.236753  \n",
       "64            0.689495  0.063542  \n",
       "65           -1.519483 -0.973840  \n",
       "66            0.794684  0.227339  \n",
       "...                ...       ...  \n",
       "32248        -0.467589 -0.427850  \n",
       "32249        -1.098725 -0.509748  \n",
       "32250        -1.729861 -0.946540  \n",
       "32251        -0.257210 -0.182154  \n",
       "32252        -0.467589 -0.209454  \n",
       "\n",
       "[35324 rows x 9 columns]"
      ]
     },
     "execution_count": 122,
     "metadata": {},
     "output_type": "execute_result"
    }
   ],
   "source": [
    "datos_unificados"
   ]
  },
  {
   "cell_type": "markdown",
   "id": "4f082a08-c0e3-485a-9533-b00ed0872dce",
   "metadata": {},
   "source": [
    "Los valores normalizados para 'hindfoot_length' y 'weight' indican a cuántas desviaciones estándar se encuentran los valores originales con respecto a la media de los datos.\n",
    "\n",
    "Por ejemplo, un valor normalizado de 0,373927 para 'hindfoot_length' significa que el valor original estaba aproximadamente 0,37 desviaciones estándar por encima de la media.\n",
    "\n",
    "Un valor normalizado negativo indica que el valor original está por debajo de la media, mientras que un valor positivo indica que está por encima de la media.\n",
    "\n",
    "Un valor normalizado de 0 significa que el valor original es igual a la media de los datos normalizados."
   ]
  }
 ],
 "metadata": {
  "kernelspec": {
   "display_name": "Python 3 (ipykernel)",
   "language": "python",
   "name": "python3"
  },
  "language_info": {
   "codemirror_mode": {
    "name": "ipython",
    "version": 3
   },
   "file_extension": ".py",
   "mimetype": "text/x-python",
   "name": "python",
   "nbconvert_exporter": "python",
   "pygments_lexer": "ipython3",
   "version": "3.11.7"
  }
 },
 "nbformat": 4,
 "nbformat_minor": 5
}
